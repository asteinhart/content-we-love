{
 "cells": [
  {
   "cell_type": "code",
   "execution_count": 1,
   "metadata": {},
   "outputs": [],
   "source": [
    "from env import KEY\n",
    "import requests\n",
    "import json"
   ]
  },
  {
   "cell_type": "code",
   "execution_count": 42,
   "metadata": {},
   "outputs": [
    {
     "name": "stdout",
     "output_type": "stream",
     "text": [
      "page: 1, itrfhGFdOkWi4u7tO/recMuAvYMKdpCU3CD\n",
      "page: 2, itrfhGFdOkWi4u7tO/recjH4gT3SZTI9AVN\n",
      "page: 3, None\n"
     ]
    }
   ],
   "source": [
    "url_base = \"https://api.airtable.com/v0/appfRI9pJ5OIOt9LV/Articles\"\n",
    "article_list = []\n",
    "page = 1\n",
    "headers = {\"Authorization\": f\"Bearer {KEY}\"}\n",
    "offset = 0\n",
    "\n",
    "while offset is not None:\n",
    "    if offset != 0:\n",
    "        url = url_base + \"?offset=\" + offset\n",
    "    else: \n",
    "        url = url_base\n",
    "\n",
    "    response = requests.request(\"GET\", url, headers=headers)\n",
    "    articles = response.json()\n",
    "    a = [a[\"fields\"] for a in articles[\"records\"]]\n",
    "    article_list += a \n",
    "\n",
    "    offset = articles.get(\"offset\")\n",
    "    \n",
    "    print(f\"page: {page}, {offset}\")\n",
    "    page += 1\n"
   ]
  },
  {
   "cell_type": "code",
   "execution_count": 43,
   "metadata": {},
   "outputs": [],
   "source": []
  },
  {
   "cell_type": "code",
   "execution_count": 44,
   "metadata": {},
   "outputs": [
    {
     "data": {
      "text/plain": [
       "271"
      ]
     },
     "execution_count": 44,
     "metadata": {},
     "output_type": "execute_result"
    }
   ],
   "source": [
    "len(article_list)"
   ]
  },
  {
   "cell_type": "code",
   "execution_count": 28,
   "metadata": {},
   "outputs": [
    {
     "data": {
      "text/plain": [
       "{'error': {'type': 'LIST_RECORDS_ITERATOR_NOT_AVAILABLE'}}"
      ]
     },
     "execution_count": 28,
     "metadata": {},
     "output_type": "execute_result"
    }
   ],
   "source": [
    "articles"
   ]
  }
 ],
 "metadata": {
  "kernelspec": {
   "display_name": "base",
   "language": "python",
   "name": "python3"
  },
  "language_info": {
   "codemirror_mode": {
    "name": "ipython",
    "version": 3
   },
   "file_extension": ".py",
   "mimetype": "text/x-python",
   "name": "python",
   "nbconvert_exporter": "python",
   "pygments_lexer": "ipython3",
   "version": "3.10.9"
  }
 },
 "nbformat": 4,
 "nbformat_minor": 2
}
