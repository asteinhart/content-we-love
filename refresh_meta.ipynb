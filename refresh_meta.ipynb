{
 "cells": [
  {
   "cell_type": "code",
   "execution_count": 3,
   "metadata": {},
   "outputs": [],
   "source": [
    "from helper import pull_records\n",
    "import pandas as pd\n",
    "import metadata_parser\n",
    "import json\n"
   ]
  },
  {
   "cell_type": "code",
   "execution_count": 2,
   "metadata": {},
   "outputs": [],
   "source": [
    "def get_meta(row):\n",
    "    \"\"\"\n",
    "    get meta data from a url\n",
    "    \"\"\"\n",
    "    meta = []\n",
    "    try:\n",
    "        print(f\"trying row {row['title']}\")\n",
    "        page = metadata_parser.MetadataParser(url=row[\"link\"])\n",
    "        meta.append(page.metadata[\"og\"])\n",
    "    except Exception as e:\n",
    "        print(f\"oopsies on row {row['title']}\")\n",
    "    else:\n",
    "        print(f\"success row {row['title']}\")\n",
    "\n",
    "    return meta\n",
    "\n",
    "\n",
    "def scrape_metadata(records, export=False):\n",
    "    \"\"\"\n",
    "    get meta data from a list of records\n",
    "    \"\"\"\n",
    "    #only try to get metadata for records we dont already have\n",
    "    try:\n",
    "        with open(\"clean_meta.json\", \"r\") as file:\n",
    "            clean_meta = json.load(file)\n",
    "    except:\n",
    "        clean_meta = []\n",
    "\n",
    "    print('before: ', len(records))\n",
    "    records = records[~records[\"link\"].isin([meta['url'] for meta in clean_meta if meta.get('url',0) != 0])]\n",
    "    bad_records = ['Why police so rarely get charged for killing unarmed black men like Stephon Clark', \"America’s Most Diverse City Is Still Scarred by Its Past\", \"No game days. No bars. The pandemic is forcing some men to realize they need deeper friendships.\"]\n",
    "    records = records[~records[\"title\"].isin(bad_records)] \n",
    "\n",
    "    print('after: ', len(records))\n",
    "    i = 0\n",
    "    clean_meta_dict = []\n",
    "    while i <= len(records):\n",
    "\n",
    "        print(f\"getting meta for {i} to {i + 100}\")\n",
    "        records_meta = records[i:i + 100]      \n",
    "        meta = records_meta.apply(get_meta, axis=1)\n",
    "        print(len(meta))\n",
    "        clean_meta_dict = clean_meta_dict + [r[0] for r in meta.tolist() if len(r) > 0 and len(r[0]) > 0]\n",
    "        i += 100\n",
    "    \n",
    "    # combine clean_meta_dict and clean_meta\n",
    "    clean_meta_dict = clean_meta_dict + clean_meta\n",
    "\n",
    "\n",
    "    #clean_meta\n",
    "    if export:\n",
    "        with open(\"clean_meta.json\", \"w\") as fp:\n",
    "            json.dump(clean_meta_dict, fp)\n"
   ]
  },
  {
   "cell_type": "code",
   "execution_count": 4,
   "metadata": {},
   "outputs": [],
   "source": [
    "with open(\"clean_meta.json\", \"r\") as file:\n",
    "    clean_meta = json.load(file)"
   ]
  },
  {
   "cell_type": "code",
   "execution_count": 5,
   "metadata": {},
   "outputs": [
    {
     "data": {
      "text/plain": [
       "238"
      ]
     },
     "execution_count": 5,
     "metadata": {},
     "output_type": "execute_result"
    }
   ],
   "source": [
    "len(clean_meta)"
   ]
  },
  {
   "cell_type": "code",
   "execution_count": 10,
   "metadata": {},
   "outputs": [
    {
     "name": "stderr",
     "output_type": "stream",
     "text": [
      "/Users/austinsteinhart/anaconda3/lib/python3.10/site-packages/metadata_parser/__init__.py:1543: FutureWarning: `search_head_only` was not provided and defaulting to `True` Future versions will default to `False`.\n",
      "  warn_future(\n",
      "MetadataParser.fetch_url(https://www.nytimes.com/2024/06/22/well/the-vexing-problem-of-the-medium-friend.html)\n",
      "NotParsableFetchError | https://www.nytimes.com/2024/06/22/well/the-vexing-problem-of-the-medium-friend.html | status_code: 403\n",
      "NotParsableFetchError History | 0 | 403 : https://www.nytimes.com/2024/06/22/well/the-vexing-problem-of-the-medium-friend.html \n"
     ]
    },
    {
     "ename": "NotParsableFetchError",
     "evalue": "NotParsableFetchError: Status Code is not 200 | 403 | None",
     "output_type": "error",
     "traceback": [
      "\u001b[0;31m---------------------------------------------------------------------------\u001b[0m",
      "\u001b[0;31mNotParsableFetchError\u001b[0m                     Traceback (most recent call last)",
      "Cell \u001b[0;32mIn[10], line 1\u001b[0m\n\u001b[0;32m----> 1\u001b[0m page \u001b[38;5;241m=\u001b[39m \u001b[43mmetadata_parser\u001b[49m\u001b[38;5;241;43m.\u001b[39;49m\u001b[43mMetadataParser\u001b[49m\u001b[43m(\u001b[49m\u001b[43murl\u001b[49m\u001b[38;5;241;43m=\u001b[39;49m\u001b[38;5;124;43m'\u001b[39;49m\u001b[38;5;124;43mhttps://www.nytimes.com/2024/06/22/well/the-vexing-problem-of-the-medium-friend.html\u001b[39;49m\u001b[38;5;124;43m'\u001b[39;49m\u001b[43m)\u001b[49m\n",
      "File \u001b[0;32m~/anaconda3/lib/python3.10/site-packages/metadata_parser/__init__.py:1597\u001b[0m, in \u001b[0;36mMetadataParser.__init__\u001b[0;34m(self, url, html, strategy, url_data, url_headers, force_parse, ssl_verify, only_parse_file_extensions, force_parse_invalid_content_type, require_public_netloc, allow_localhosts, force_doctype, requests_timeout, raise_on_invalid, search_head_only, allow_redirects, requests_session, only_parse_http_ok, defer_fetch, derive_encoding, html_encoding, default_encoding, default_encoder, retry_dropped_without_headers, support_malformed, cached_urlparser)\u001b[0m\n\u001b[1;32m   1595\u001b[0m         \u001b[38;5;28mself\u001b[39m\u001b[38;5;241m.\u001b[39mdeferred_fetch \u001b[38;5;241m=\u001b[39m deferred_fetch  \u001b[38;5;66;03m# type: ignore[method-assign]\u001b[39;00m\n\u001b[1;32m   1596\u001b[0m         \u001b[38;5;28;01mreturn\u001b[39;00m\n\u001b[0;32m-> 1597\u001b[0m     (html, html_encoding, _response_history) \u001b[38;5;241m=\u001b[39m \u001b[38;5;28;43mself\u001b[39;49m\u001b[38;5;241;43m.\u001b[39;49m\u001b[43mfetch_url\u001b[49m\u001b[43m(\u001b[49m\n\u001b[1;32m   1598\u001b[0m \u001b[43m        \u001b[49m\u001b[43murl_data\u001b[49m\u001b[38;5;241;43m=\u001b[39;49m\u001b[43murl_data\u001b[49m\u001b[43m,\u001b[49m\n\u001b[1;32m   1599\u001b[0m \u001b[43m        \u001b[49m\u001b[43murl_headers\u001b[49m\u001b[38;5;241;43m=\u001b[39;49m\u001b[43murl_headers\u001b[49m\u001b[43m,\u001b[49m\n\u001b[1;32m   1600\u001b[0m \u001b[43m        \u001b[49m\u001b[43mretry_dropped_without_headers\u001b[49m\u001b[38;5;241;43m=\u001b[39;49m\u001b[43mretry_dropped_without_headers\u001b[49m\u001b[43m,\u001b[49m\n\u001b[1;32m   1601\u001b[0m \u001b[43m    \u001b[49m\u001b[43m)\u001b[49m\n\u001b[1;32m   1602\u001b[0m \u001b[38;5;28;01melse\u001b[39;00m:\n\u001b[1;32m   1603\u001b[0m     \u001b[38;5;66;03m# our html should always be unicode coming from `requests`\u001b[39;00m\n\u001b[1;32m   1604\u001b[0m     html \u001b[38;5;241m=\u001b[39m \u001b[38;5;124m\"\u001b[39m\u001b[38;5;124m\"\u001b[39m\n",
      "File \u001b[0;32m~/anaconda3/lib/python3.10/site-packages/metadata_parser/__init__.py:1921\u001b[0m, in \u001b[0;36mMetadataParser.fetch_url\u001b[0;34m(self, url_data, url_headers, force_parse, force_parse_invalid_content_type, allow_redirects, ssl_verify, requests_timeout, requests_session, only_parse_http_ok, derive_encoding, default_encoding, retry_dropped_without_headers)\u001b[0m\n\u001b[1;32m   1918\u001b[0m     \u001b[38;5;66;03m# log the history if it's there\u001b[39;00m\n\u001b[1;32m   1919\u001b[0m     response_history\u001b[38;5;241m.\u001b[39mlog(prefix\u001b[38;5;241m=\u001b[39m\u001b[38;5;124m\"\u001b[39m\u001b[38;5;124mNotParsableFetchError History\u001b[39m\u001b[38;5;124m\"\u001b[39m)\n\u001b[0;32m-> 1921\u001b[0m     \u001b[38;5;28;01mraise\u001b[39;00m NotParsableFetchError(\n\u001b[1;32m   1922\u001b[0m         message\u001b[38;5;241m=\u001b[39m\u001b[38;5;124m\"\u001b[39m\u001b[38;5;124mStatus Code is not 200\u001b[39m\u001b[38;5;124m\"\u001b[39m,\n\u001b[1;32m   1923\u001b[0m         code\u001b[38;5;241m=\u001b[39mresp\u001b[38;5;241m.\u001b[39mstatus_code,\n\u001b[1;32m   1924\u001b[0m         metadataParser\u001b[38;5;241m=\u001b[39m\u001b[38;5;28mself\u001b[39m,\n\u001b[1;32m   1925\u001b[0m         response\u001b[38;5;241m=\u001b[39mresp,\n\u001b[1;32m   1926\u001b[0m     )\n\u001b[1;32m   1928\u001b[0m \u001b[38;5;66;03m# scoping; default to None\u001b[39;00m\n\u001b[1;32m   1929\u001b[0m content_type \u001b[38;5;241m=\u001b[39m \u001b[38;5;28;01mNone\u001b[39;00m\n",
      "\u001b[0;31mNotParsableFetchError\u001b[0m: NotParsableFetchError: Status Code is not 200 | 403 | None"
     ]
    }
   ],
   "source": [
    "page = metadata_parser.MetadataParser(url='https://www.nytimes.com/2024/06/22/well/the-vexing-problem-of-the-medium-friend.html')"
   ]
  },
  {
   "cell_type": "code",
   "execution_count": 9,
   "metadata": {},
   "outputs": [
    {
     "name": "stderr",
     "output_type": "stream",
     "text": [
      "/Users/austinsteinhart/anaconda3/lib/python3.10/site-packages/metadata_parser/__init__.py:1619: FutureWarning: MetadataParser.metadata is deprecated in 1.0; Operate on the parsed result directly.\n",
      "  warn_future(\n"
     ]
    },
    {
     "data": {
      "text/plain": [
       "{'og': {'url': 'https://www.nytimes.com/interactive/2020/12/17/world/asia/india-pollution-inequality.html',\n",
       "  'type': 'article',\n",
       "  'title': 'Who Gets to Breathe Clean Air in New Delhi? (Published 2020)',\n",
       "  'image': 'https://static01.nyt.com/images/2020/12/28/world/delhi-air-promo/delhi-air-promo-facebookJumbo.jpg?year=2020&h=550&w=1050&s=7d5ac8eb518014e40c586399d167d29fcd789b118bc215b3779bc7e1b49e569e&k=ZQJBKqZ0VN',\n",
       "  'image:alt': '',\n",
       "  'description': 'We measured how much air pollution two children, Monu and Aamya, breathed for a day to see how much inequality makes a difference.'},\n",
       " 'meta': {'charset': 'utf-8',\n",
       "  'robots': 'noarchive, max-image-preview:large',\n",
       "  'description': 'We measured how much air pollution two children, Monu and Aamya, breathed for a day to see how much inequality makes a difference.',\n",
       "  'og:url': 'https://www.nytimes.com/interactive/2020/12/17/world/asia/india-pollution-inequality.html',\n",
       "  'og:type': 'article',\n",
       "  'og:title': 'Who Gets to Breathe Clean Air in New Delhi? (Published 2020)',\n",
       "  'og:image': 'https://static01.nyt.com/images/2020/12/28/world/delhi-air-promo/delhi-air-promo-facebookJumbo.jpg?year=2020&h=550&w=1050&s=7d5ac8eb518014e40c586399d167d29fcd789b118bc215b3779bc7e1b49e569e&k=ZQJBKqZ0VN',\n",
       "  'og:image:alt': '',\n",
       "  'og:description': 'We measured how much air pollution two children, Monu and Aamya, breathed for a day to see how much inequality makes a difference.',\n",
       "  'twitter:url': 'https://www.nytimes.com/interactive/2020/12/17/world/asia/india-pollution-inequality.html',\n",
       "  'twitter:title': 'Who Gets to Breathe Clean Air in New Delhi? (Published 2020)',\n",
       "  'twitter:description': 'We measured how much air pollution two children, Monu and Aamya, breathed for a day to see how much inequality makes a difference.',\n",
       "  'twitter:image': 'https://static01.nyt.com/images/2020/12/28/world/delhi-air-promo/delhi-air-promo-videoSixteenByNine3000.jpg?year=2020&h=1687&w=3000&s=ec913e0da2acf3b2000e9f06f0e0b85355281d6bf85557f07e2d5f956970148b&k=ZQJBKqZ0VN&tw=1',\n",
       "  'twitter:image:alt': '',\n",
       "  'twitter:card': 'summary_large_image',\n",
       "  'article:published_time': '2020-12-17T05:02:16.000Z',\n",
       "  'article:modified_time': '2021-11-11T21:18:44.483Z',\n",
       "  'Content-Language': 'en',\n",
       "  'articleid': '100000007499478',\n",
       "  'nyt_uri': 'nyt://interactive/6f987cf7-908f-5ecf-a1b4-d0395cdd0073',\n",
       "  'pubp_event_id': 'pubp://event/c66dedfeee354a05a6b5eecbf9f88d29',\n",
       "  'image': 'https://static01.nyt.com/images/2020/12/28/world/delhi-air-promo/delhi-air-promo-facebookJumbo.jpg?year=2020&h=550&w=1050&s=7d5ac8eb518014e40c586399d167d29fcd789b118bc215b3779bc7e1b49e569e&k=ZQJBKqZ0VN',\n",
       "  'byl': 'By Jin Wu, Derek Watkins, Josh Williams, Shalini Venugopal Bhagat, Hari Kumar, Jeffrey Gettleman, Rumsey Taylor, Leslye Davis and Karan Deep Singh',\n",
       "  'news_keywords': 'New Delhi,Air pollution,Filter,Income Inequality',\n",
       "  'pdate': '20201217',\n",
       "  'article:section': 'World',\n",
       "  'article:tag': ['New Delhi (India)',\n",
       "   'Air Pollution',\n",
       "   'Filters',\n",
       "   'Income Inequality'],\n",
       "  'article:opinion': 'false',\n",
       "  'article:content_tier': 'metered',\n",
       "  'CG': 'world',\n",
       "  'SCG': 'asia',\n",
       "  'CN': '',\n",
       "  'CT': '',\n",
       "  'viewport': 'width=device-width, initial-scale=1',\n",
       "  'fb:app_id': '9869919170',\n",
       "  'twitter:site': '@nytimes',\n",
       "  'slack-app-id': 'A0121HXPPTQ'},\n",
       " 'dc': {},\n",
       " 'page': {'title': 'Who Gets to Breathe Clean Air in New Delhi? - The New York Times',\n",
       "  'canonical': 'https://www.nytimes.com/interactive/2020/12/17/world/asia/india-pollution-inequality.html'},\n",
       " 'twitter': {'site': '@nytimes'},\n",
       " '_internal': {'url': 'https://www.nytimes.com/interactive/2020/12/17/world/asia/india-pollution-inequality.html',\n",
       "  'url_actual': 'https://www.nytimes.com/interactive/2020/12/17/world/asia/india-pollution-inequality.html',\n",
       "  'encoding': 'utf-8'},\n",
       " '_v': 1}"
      ]
     },
     "execution_count": 9,
     "metadata": {},
     "output_type": "execute_result"
    }
   ],
   "source": [
    "page.metadata"
   ]
  },
  {
   "cell_type": "code",
   "execution_count": 7,
   "metadata": {},
   "outputs": [
    {
     "name": "stderr",
     "output_type": "stream",
     "text": [
      "/Users/austinsteinhart/anaconda3/lib/python3.10/site-packages/metadata_parser/__init__.py:1543: FutureWarning: `search_head_only` was not provided and defaulting to `True` Future versions will default to `False`.\n",
      "  warn_future(\n",
      "MetadataParser.fetch_url(https://www.nytimes.com/2017/05/31/business/economy/volatile-income-economy-jobs.html)\n",
      "NotParsableFetchError | https://www.nytimes.com/2017/05/31/business/economy/volatile-income-economy-jobs.html | status_code: 403\n",
      "NotParsableFetchError History | 0 | 403 : https://www.nytimes.com/2017/05/31/business/economy/volatile-income-economy-jobs.html \n",
      "MetadataParser.fetch_url(https://www.nytimes.com/interactive/2018/02/28/opinion/the-unmet-promise-of-equality.html?fbclid=IwAR0jOncWvLhzZmlOB7MPzdvbIK8faPP6nqQQcEmE11-aKJtmJd_He--VfI0)\n"
     ]
    },
    {
     "name": "stdout",
     "output_type": "stream",
     "text": [
      "before:  361\n",
      "after:  207\n",
      "getting meta for 0 to 100\n",
      "trying row Steady Jobs, With Pay and Hours That Are Anything But\n",
      "oopsies on row Steady Jobs, With Pay and Hours That Are Anything But\n",
      "trying row The Unmet Promise of Equality\n"
     ]
    },
    {
     "name": "stderr",
     "output_type": "stream",
     "text": [
      "/Users/austinsteinhart/anaconda3/lib/python3.10/site-packages/metadata_parser/__init__.py:1619: FutureWarning: MetadataParser.metadata is deprecated in 1.0; Operate on the parsed result directly.\n",
      "  warn_future(\n",
      "MetadataParser.fetch_url(https://www.citylab.com/equity/2017/09/distressed-communities/541044/?utm_source=SFFB)\n"
     ]
    },
    {
     "name": "stdout",
     "output_type": "stream",
     "text": [
      "success row The Unmet Promise of Equality\n",
      "trying row America's Most and Least Distressed Cities\n"
     ]
    },
    {
     "name": "stderr",
     "output_type": "stream",
     "text": [
      "NotParsable | https://www.citylab.com/equity/2017/09/distressed-communities/541044/?utm_source=SFFB | unknown filetype, response: \n",
      "MetadataParser.fetch_url(https://www.nytimes.com/interactive/2020/09/24/climate/fires-worst-year-california-oregon-washington.html?referringSource=articleShare)\n",
      "MetadataParser.fetch_url(https://www.nytimes.com/interactive/2018/10/12/us/map-of-every-building-in-the-united-states.html?fbclid=IwAR3GULdvzQ7L2TZyzz5esoi79yIyzvQgQKkW7Af4uTYhWxR-1KL35L9Nf2U)\n"
     ]
    },
    {
     "name": "stdout",
     "output_type": "stream",
     "text": [
      "oopsies on row America's Most and Least Distressed Cities\n",
      "trying row Record Wildfires on the West Coast Are Capping a Disastrous Decade\n",
      "success row Record Wildfires on the West Coast Are Capping a Disastrous Decade\n",
      "trying row A Map of Every Building in America\n"
     ]
    },
    {
     "name": "stderr",
     "output_type": "stream",
     "text": [
      "MetadataParser.fetch_url(https://www.nytimes.com/2021/05/26/upshot/college-admissions-essay-sat.html?smid=fb-nytupshot&smtyp=cur&fbclid=IwAR3XcGF6_v21aFr9kGSoL7ZOkuy8gaylSSFCOeFGB0O71MZauV-Qss6fQsQ)\n",
      "NotParsableFetchError | https://www.nytimes.com/2021/05/26/upshot/college-admissions-essay-sat.html?smid=fb-nytupshot&smtyp=cur&fbclid=IwAR3XcGF6_v21aFr9kGSoL7ZOkuy8gaylSSFCOeFGB0O71MZauV-Qss6fQsQ | status_code: 403\n",
      "NotParsableFetchError History | 0 | 403 : https://www.nytimes.com/2021/05/26/upshot/college-admissions-essay-sat.html?smid=fb-nytupshot&smtyp=cur&fbclid=IwAR3XcGF6_v21aFr9kGSoL7ZOkuy8gaylSSFCOeFGB0O71MZauV-Qss6fQsQ \n",
      "MetadataParser.fetch_url(https://www.latimes.com/local/california/la-me-san-joaquin-crime-reforms-20181221-htmlstory.html?fbclid=IwAR2U6hfJ5gseg5iSrm4zUS0soQYb1fFRegonuoJZ5VKSwLQU6tx8Zy36rXE)\n"
     ]
    },
    {
     "name": "stdout",
     "output_type": "stream",
     "text": [
      "success row A Map of Every Building in America\n",
      "trying row The Persistent Grip of Social Class on College Admissions\n",
      "oopsies on row The Persistent Grip of Social Class on College Admissions\n",
      "trying row Crime once plagued San Joaquin County, but now its jail has empty beds. Here’s what it did right\n"
     ]
    },
    {
     "name": "stderr",
     "output_type": "stream",
     "text": [
      "NotParsableFetchError | https://www.latimes.com/local/california/la-me-san-joaquin-crime-reforms-20181221-htmlstory.html?fbclid=IwAR2U6hfJ5gseg5iSrm4zUS0soQYb1fFRegonuoJZ5VKSwLQU6tx8Zy36rXE | status_code: 403\n",
      "NotParsableFetchError History | 0 | 403 : https://www.latimes.com/local/california/la-me-san-joaquin-crime-reforms-20181221-htmlstory.html?fbclid=IwAR2U6hfJ5gseg5iSrm4zUS0soQYb1fFRegonuoJZ5VKSwLQU6tx8Zy36rXE \n",
      "MetadataParser.fetch_url(https://www.nytimes.com/2015/01/11/fashion/no-37-big-wedding-or-small.html)\n",
      "NotParsableFetchError | https://www.nytimes.com/2015/01/11/fashion/no-37-big-wedding-or-small.html | status_code: 403\n",
      "NotParsableFetchError History | 0 | 403 : https://www.nytimes.com/2015/01/11/fashion/no-37-big-wedding-or-small.html \n",
      "MetadataParser.fetch_url(https://www.nytimes.com/2021/02/17/magazine/video-conference.html?referringSource=articleShare)\n"
     ]
    },
    {
     "name": "stdout",
     "output_type": "stream",
     "text": [
      "oopsies on row Crime once plagued San Joaquin County, but now its jail has empty beds. Here’s what it did right\n",
      "trying row The 36 Questions That Lead to Love\n",
      "oopsies on row The 36 Questions That Lead to Love\n",
      "trying row The Race to Fix Virtual Meetings\n"
     ]
    },
    {
     "name": "stderr",
     "output_type": "stream",
     "text": [
      "NotParsableFetchError | https://www.nytimes.com/2021/02/17/magazine/video-conference.html?referringSource=articleShare | status_code: 403\n",
      "NotParsableFetchError History | 0 | 403 : https://www.nytimes.com/2021/02/17/magazine/video-conference.html?referringSource=articleShare \n",
      "MetadataParser.fetch_url(https://www.nytimes.com/interactive/2020/12/17/world/asia/india-pollution-inequality.html?smid=nytcore-ios-share&referringSource=articleShare&sgrp=c-cb)\n",
      "MetadataParser.fetch_url(https://www.bloomberg.com/opinion/articles/2017-07-12/democrats-revival-could-run-through-tammany-hall?)\n"
     ]
    },
    {
     "name": "stdout",
     "output_type": "stream",
     "text": [
      "oopsies on row The Race to Fix Virtual Meetings\n",
      "trying row Who Gets to Breathe Clean Air in New Delhi?\n",
      "success row Who Gets to Breathe Clean Air in New Delhi?\n",
      "trying row Democrats' Revival Could Run Through Tammany Hall\n"
     ]
    },
    {
     "name": "stderr",
     "output_type": "stream",
     "text": [
      "NotParsable | https://www.bloomberg.com/opinion/articles/2017-07-12/democrats-revival-could-run-through-tammany-hall? | unknown filetype, response: \n",
      "MetadataParser.fetch_url(https://www.nytimes.com/2018/02/10/opinion/sunday/single-mothers-poverty.html?fbclid=IwAR3SjEz79a_sFP2L07E2wclJsoQ4qKclMVYhTC2w4Kxoz8colbHOavCBMs0)\n",
      "NotParsableFetchError | https://www.nytimes.com/2018/02/10/opinion/sunday/single-mothers-poverty.html?fbclid=IwAR3SjEz79a_sFP2L07E2wclJsoQ4qKclMVYhTC2w4Kxoz8colbHOavCBMs0 | status_code: 403\n",
      "NotParsableFetchError History | 0 | 403 : https://www.nytimes.com/2018/02/10/opinion/sunday/single-mothers-poverty.html?fbclid=IwAR3SjEz79a_sFP2L07E2wclJsoQ4qKclMVYhTC2w4Kxoz8colbHOavCBMs0 \n",
      "MetadataParser.fetch_url(https://www.nytimes.com/2017/04/28/opinion/america-from-exceptionalism-to-nihilism.html?referer=http://m.facebook.com)\n"
     ]
    },
    {
     "name": "stdout",
     "output_type": "stream",
     "text": [
      "oopsies on row Democrats' Revival Could Run Through Tammany Hall\n",
      "trying row Single Mothers Are Not the Problem\n",
      "oopsies on row Single Mothers Are Not the Problem\n",
      "trying row America, From Exceptionalism to Nihilism\n"
     ]
    },
    {
     "name": "stderr",
     "output_type": "stream",
     "text": [
      "NotParsableFetchError | https://www.nytimes.com/2017/04/28/opinion/america-from-exceptionalism-to-nihilism.html?referer=http://m.facebook.com | status_code: 403\n",
      "NotParsableFetchError History | 0 | 403 : https://www.nytimes.com/2017/04/28/opinion/america-from-exceptionalism-to-nihilism.html?referer=http://m.facebook.com \n",
      "MetadataParser.fetch_url(https://www.latimes.com/projects/la-me-census-middle-east-north-africa-race/?fbclid=IwAR3gbEF9-rx6uIvLvYWH_okTyYBFYb4-rS_Gga45mqp43GBmF196zPmTmkc#nt=oft-Triple%20Chain~Recommender~triple-recommender~california-recommender~~6~no-art~curated~curatedpage)\n",
      "NotParsableFetchError | https://www.latimes.com/projects/la-me-census-middle-east-north-africa-race/?fbclid=IwAR3gbEF9-rx6uIvLvYWH_okTyYBFYb4-rS_Gga45mqp43GBmF196zPmTmkc#nt=oft-Triple%20Chain~Recommender~triple-recommender~california-recommender~~6~no-art~curated~curatedpage | status_code: 403\n",
      "NotParsableFetchError History | 0 | 403 : https://www.latimes.com/projects/la-me-census-middle-east-north-africa-race/?fbclid=IwAR3gbEF9-rx6uIvLvYWH_okTyYBFYb4-rS_Gga45mqp43GBmF196zPmTmkc \n",
      "MetadataParser.fetch_url(https://www.opportunityatlas.org/)\n"
     ]
    },
    {
     "name": "stdout",
     "output_type": "stream",
     "text": [
      "oopsies on row America, From Exceptionalism to Nihilism\n",
      "trying row Are Arabs and Iranians white? Census says yes, but many disagree\n",
      "oopsies on row Are Arabs and Iranians white? Census says yes, but many disagree\n",
      "trying row The Opportunity Atlas\n"
     ]
    },
    {
     "name": "stderr",
     "output_type": "stream",
     "text": [
      "MetadataParser.fetch_url(https://www.theatlantic.com/science/archive/2018/05/two-spaces-after-a-period/559304/?utm_source=atlfb_test40_3)\n",
      "MetadataParser.fetch_url(https://www.nytimes.com/2021/03/15/books/review/don-lemon-by-the-book-interview.html?referringSource=articleShare)\n"
     ]
    },
    {
     "name": "stdout",
     "output_type": "stream",
     "text": [
      "success row The Opportunity Atlas\n",
      "trying row The Scientific Case for Two Spaces After a Period\n",
      "success row The Scientific Case for Two Spaces After a Period\n",
      "trying row Don Lemon Organizes His Books by Color\n"
     ]
    },
    {
     "name": "stderr",
     "output_type": "stream",
     "text": [
      "NotParsableFetchError | https://www.nytimes.com/2021/03/15/books/review/don-lemon-by-the-book-interview.html?referringSource=articleShare | status_code: 403\n",
      "NotParsableFetchError History | 0 | 403 : https://www.nytimes.com/2021/03/15/books/review/don-lemon-by-the-book-interview.html?referringSource=articleShare \n",
      "MetadataParser.fetch_url(https://www.theatlantic.com/politics/archive/2017/03/the-republican-waterloo/520833/?utm_source=atlfb)\n",
      "MetadataParser.fetch_url(https://www.nytimes.com/2018/01/12/technology/grayscale-phone.html)\n"
     ]
    },
    {
     "name": "stdout",
     "output_type": "stream",
     "text": [
      "oopsies on row Don Lemon Organizes His Books by Color\n",
      "trying row The Republican Waterloo\n",
      "success row The Republican Waterloo\n",
      "trying row Is the Answer to Phone Addiction a Worse Phone?\n"
     ]
    },
    {
     "name": "stderr",
     "output_type": "stream",
     "text": [
      "NotParsableFetchError | https://www.nytimes.com/2018/01/12/technology/grayscale-phone.html | status_code: 403\n",
      "NotParsableFetchError History | 0 | 403 : https://www.nytimes.com/2018/01/12/technology/grayscale-phone.html \n",
      "MetadataParser.fetch_url(https://www.nytimes.com/2017/08/12/opinion/sunday/identity-politics-white-men.html)\n",
      "NotParsableFetchError | https://www.nytimes.com/2017/08/12/opinion/sunday/identity-politics-white-men.html | status_code: 403\n",
      "NotParsableFetchError History | 0 | 403 : https://www.nytimes.com/2017/08/12/opinion/sunday/identity-politics-white-men.html \n",
      "MetadataParser.fetch_url(https://www.theatlantic.com/family/archive/2018/03/todays-rebels-are-model-children/556682/?fbclid=IwAR1aBQHIugL7b1o4QKIKjr349UoSwyRinYpjMyCOFiBLjeo5aE5WHZWTVKY)\n"
     ]
    },
    {
     "name": "stdout",
     "output_type": "stream",
     "text": [
      "oopsies on row Is the Answer to Phone Addiction a Worse Phone?\n",
      "trying row I’m a White Man. Hear Me Out.\n",
      "oopsies on row I’m a White Man. Hear Me Out.\n",
      "trying row Today's Rebels Are Model Children\n"
     ]
    },
    {
     "name": "stderr",
     "output_type": "stream",
     "text": [
      "MetadataParser.fetch_url(https://www.nytimes.com/2018/10/20/opinion/sunday/donald-trump-elizabeth-warren.html?fbclid=IwAR2U5TLSZdPdQZdZw9hcuhVwnk6fVs36Sdb8DFDQn6FI0pNXctiB4PiH9Lk)\n",
      "NotParsableFetchError | https://www.nytimes.com/2018/10/20/opinion/sunday/donald-trump-elizabeth-warren.html?fbclid=IwAR2U5TLSZdPdQZdZw9hcuhVwnk6fVs36Sdb8DFDQn6FI0pNXctiB4PiH9Lk | status_code: 403\n",
      "NotParsableFetchError History | 0 | 403 : https://www.nytimes.com/2018/10/20/opinion/sunday/donald-trump-elizabeth-warren.html?fbclid=IwAR2U5TLSZdPdQZdZw9hcuhVwnk6fVs36Sdb8DFDQn6FI0pNXctiB4PiH9Lk \n",
      "MetadataParser.fetch_url(https://www.nytimes.com/2012/06/28/us/stockton-california-heads-for-bankruptcy-court.html?_r=0)\n"
     ]
    },
    {
     "name": "stdout",
     "output_type": "stream",
     "text": [
      "success row Today's Rebels Are Model Children\n",
      "trying row Donald Trump’s Perverse Advantage\n",
      "oopsies on row Donald Trump’s Perverse Advantage\n",
      "trying row Mediation Fails, Pushing Stockton Toward Bankruptcy\n"
     ]
    },
    {
     "name": "stderr",
     "output_type": "stream",
     "text": [
      "NotParsableFetchError | https://www.nytimes.com/2012/06/28/us/stockton-california-heads-for-bankruptcy-court.html?_r=0 | status_code: 403\n",
      "NotParsableFetchError History | 0 | 403 : https://www.nytimes.com/2012/06/28/us/stockton-california-heads-for-bankruptcy-court.html?_r=0 \n",
      "MetadataParser.fetch_url(https://thepointmag.com/examined-life/degrees-of-anxiety/?mc_cid=cc31641968&mc_eid=861bc183d8)\n",
      "NotParsableFetchError | https://thepointmag.com/examined-life/degrees-of-anxiety/?mc_cid=cc31641968&mc_eid=861bc183d8 | status_code: 403\n",
      "NotParsableFetchError History | 0 | 403 : https://thepointmag.com/examined-life/degrees-of-anxiety/?mc_cid=cc31641968&mc_eid=861bc183d8 \n",
      "MetadataParser.fetch_url(https://www.newyorker.com/magazine/2018/04/16/the-silence-the-legacy-of-childhood-trauma?mbid=social_twitter)\n"
     ]
    },
    {
     "name": "stdout",
     "output_type": "stream",
     "text": [
      "oopsies on row Mediation Fails, Pushing Stockton Toward Bankruptcy\n",
      "trying row Degrees of Anxiety\n",
      "oopsies on row Degrees of Anxiety\n",
      "trying row The Silence: The Legacy of Childhood Trauma\n"
     ]
    },
    {
     "name": "stderr",
     "output_type": "stream",
     "text": [
      "MetadataParser.fetch_url(https://www.nytimes.com/2017/02/28/opinion/the-isolation-of-college-libertarians.html)\n",
      "NotParsableFetchError | https://www.nytimes.com/2017/02/28/opinion/the-isolation-of-college-libertarians.html | status_code: 403\n",
      "NotParsableFetchError History | 0 | 403 : https://www.nytimes.com/2017/02/28/opinion/the-isolation-of-college-libertarians.html \n",
      "MetadataParser.fetch_url(https://www.theatlantic.com/family/archive/2019/07/families-slack-asana/593584/?_hsenc=p2ANqtz-_hZbr8Inks5p7MPIp8G1IDFb_KE31x_MjKUm8H5ChhXbjQwqX9zXDuPFFd1y-pbrKdy3a8t4-xfoMZ10NNdno06bPBRB6pGGSap3q_I8yWMRBUfBY&_hsmi=74588044&utm_campaign=site_visitor.unpaid.engagement&utm_content=74588044&utm_medium=tr_social&utm_source=facebook)\n"
     ]
    },
    {
     "name": "stdout",
     "output_type": "stream",
     "text": [
      "success row The Silence: The Legacy of Childhood Trauma\n",
      "trying row The Isolation of College Libertarians\n",
      "oopsies on row The Isolation of College Libertarians\n",
      "trying row The Slackification of the American Home\n"
     ]
    },
    {
     "name": "stderr",
     "output_type": "stream",
     "text": [
      "MetadataParser.fetch_url(https://www.nytimes.com/2017/08/28/opinion/community-college-misconception.html)\n",
      "NotParsableFetchError | https://www.nytimes.com/2017/08/28/opinion/community-college-misconception.html | status_code: 403\n",
      "NotParsableFetchError History | 0 | 403 : https://www.nytimes.com/2017/08/28/opinion/community-college-misconception.html \n",
      "MetadataParser.fetch_url(https://www.nytimes.com/2018/03/10/opinion/sunday/go-vote.html?fbclid=IwAR3kbCi0-ufImHly7rVoz_0xxFLgnbR-NlL_vZ4VHM6gbjduBJUXw7gTzGE)\n"
     ]
    },
    {
     "name": "stdout",
     "output_type": "stream",
     "text": [
      "success row The Slackification of the American Home\n",
      "trying row The Biggest Misconception About Today’s College Students\n",
      "oopsies on row The Biggest Misconception About Today’s College Students\n",
      "trying row Vote. That’s Just What They Don’t Want You to Do.\n"
     ]
    },
    {
     "name": "stderr",
     "output_type": "stream",
     "text": [
      "NotParsableFetchError | https://www.nytimes.com/2018/03/10/opinion/sunday/go-vote.html?fbclid=IwAR3kbCi0-ufImHly7rVoz_0xxFLgnbR-NlL_vZ4VHM6gbjduBJUXw7gTzGE | status_code: 403\n",
      "NotParsableFetchError History | 0 | 403 : https://www.nytimes.com/2018/03/10/opinion/sunday/go-vote.html?fbclid=IwAR3kbCi0-ufImHly7rVoz_0xxFLgnbR-NlL_vZ4VHM6gbjduBJUXw7gTzGE \n",
      "MetadataParser.fetch_url(https://www.newyorker.com/tech/annals-of-technology/the-strange-and-gruesome-story-of-the-greenland-shark-the-longest-living-vertebrate-on-earth?utm_medium=social&mbid=social_facebook&utm_source=facebook&utm_social-type=owned&utm_brand=tny)\n",
      "MetadataParser.fetch_url(https://www.nytimes.com/interactive/2019/01/26/opinion/sunday/paths-to-congress.html?action=click&module=Opinion&pgtype=Homepage)\n"
     ]
    },
    {
     "name": "stdout",
     "output_type": "stream",
     "text": [
      "oopsies on row Vote. That’s Just What They Don’t Want You to Do.\n",
      "trying row The Strange and Gruesome Story of the Greenland Shark, the Longest-Living Vertebrate on Earth\n",
      "success row The Strange and Gruesome Story of the Greenland Shark, the Longest-Living Vertebrate on Earth\n",
      "trying row How Every Member Got to Congress\n"
     ]
    },
    {
     "name": "stderr",
     "output_type": "stream",
     "text": [
      "MetadataParser.fetch_url(https://www.nytimes.com/2018/04/07/opinion/sunday/harold-levy-college.html?fbclid=IwAR0Hv6hSBdLpOToo6MCyfcaj_8IOncZbZh6SzV-o6dp5_OoTHrAT8Qal9tc)\n",
      "NotParsableFetchError | https://www.nytimes.com/2018/04/07/opinion/sunday/harold-levy-college.html?fbclid=IwAR0Hv6hSBdLpOToo6MCyfcaj_8IOncZbZh6SzV-o6dp5_OoTHrAT8Qal9tc | status_code: 403\n",
      "NotParsableFetchError History | 0 | 403 : https://www.nytimes.com/2018/04/07/opinion/sunday/harold-levy-college.html?fbclid=IwAR0Hv6hSBdLpOToo6MCyfcaj_8IOncZbZh6SzV-o6dp5_OoTHrAT8Qal9tc \n",
      "MetadataParser.fetch_url(https://www.nytimes.com/interactive/2024/03/09/upshot/affirmative-action-alternatives.html?smid=nytcore-ios-share&referringSource=articleShare&sgrp=c-cb)\n"
     ]
    },
    {
     "name": "stdout",
     "output_type": "stream",
     "text": [
      "success row How Every Member Got to Congress\n",
      "trying row How to Level the College Playing Field\n",
      "oopsies on row How to Level the College Playing Field\n",
      "trying row We Tried to Create a Diverse College Class Without Affirmative Action\n"
     ]
    },
    {
     "name": "stderr",
     "output_type": "stream",
     "text": [
      "MetadataParser.fetch_url(https://www.nytimes.com/interactive/2023/05/11/opinion/connie-chung-named-after.html?utm_source=substack&utm_medium=email)\n",
      "MetadataParser.fetch_url(https://www.nytimes.com/2020/05/06/upshot/pandemic-chores-homeschooling-gender.html)\n"
     ]
    },
    {
     "name": "stdout",
     "output_type": "stream",
     "text": [
      "success row We Tried to Create a Diverse College Class Without Affirmative Action\n",
      "trying row Generation Connie\n",
      "success row Generation Connie\n",
      "trying row Nearly Half of Men Say They Do Most of the Home Schooling. 3 Percent of Women Agree.\n"
     ]
    },
    {
     "name": "stderr",
     "output_type": "stream",
     "text": [
      "NotParsableFetchError | https://www.nytimes.com/2020/05/06/upshot/pandemic-chores-homeschooling-gender.html | status_code: 403\n",
      "NotParsableFetchError History | 0 | 403 : https://www.nytimes.com/2020/05/06/upshot/pandemic-chores-homeschooling-gender.html \n",
      "MetadataParser.fetch_url(https://www.chronicle.com/interactives/20190419-Fall-of-Reading)\n",
      "NotParsableFetchError | https://www.chronicle.com/interactives/20190419-Fall-of-Reading | status_code: 403\n",
      "NotParsableFetchError History | 0 | 403 : https://www.chronicle.com/interactives/20190419-Fall-of-Reading \n",
      "MetadataParser.fetch_url(https://www.nytimes.com/2018/02/21/opinion/boys-violence-shootings-guns.html?fbclid=IwAR0osymFmnLjirB8G-2W_cI0LBBrfPFJE12CciH2aZaPwk20JLLAbi-JZn8)\n"
     ]
    },
    {
     "name": "stdout",
     "output_type": "stream",
     "text": [
      "oopsies on row Nearly Half of Men Say They Do Most of the Home Schooling. 3 Percent of Women Agree.\n",
      "trying row The Fall, and Rise, of Reading\n",
      "oopsies on row The Fall, and Rise, of Reading\n",
      "trying row The Boys Are Not All Right\n"
     ]
    },
    {
     "name": "stderr",
     "output_type": "stream",
     "text": [
      "NotParsableFetchError | https://www.nytimes.com/2018/02/21/opinion/boys-violence-shootings-guns.html?fbclid=IwAR0osymFmnLjirB8G-2W_cI0LBBrfPFJE12CciH2aZaPwk20JLLAbi-JZn8 | status_code: 403\n",
      "NotParsableFetchError History | 0 | 403 : https://www.nytimes.com/2018/02/21/opinion/boys-violence-shootings-guns.html?fbclid=IwAR0osymFmnLjirB8G-2W_cI0LBBrfPFJE12CciH2aZaPwk20JLLAbi-JZn8 \n",
      "MetadataParser.fetch_url(https://www.teachforamerica.org/one-day-magazine/recovering-historical-amnesia)\n"
     ]
    },
    {
     "name": "stdout",
     "output_type": "stream",
     "text": [
      "oopsies on row The Boys Are Not All Right\n",
      "trying row Recovering from Historical Amnesia\n"
     ]
    },
    {
     "name": "stderr",
     "output_type": "stream",
     "text": [
      "MetadataParser.fetch_url(https://opinionator.blogs.nytimes.com/2015/12/24/dear-white-america/)\n"
     ]
    },
    {
     "name": "stdout",
     "output_type": "stream",
     "text": [
      "success row Recovering from Historical Amnesia\n",
      "trying row Dear White America\n"
     ]
    },
    {
     "name": "stderr",
     "output_type": "stream",
     "text": [
      "MetadataParser.fetch_url(https://www.nytimes.com/2017/04/13/opinion/reaching-out-to-the-voters-the-left-left-behind.html?)\n",
      "NotParsableFetchError | https://www.nytimes.com/2017/04/13/opinion/reaching-out-to-the-voters-the-left-left-behind.html? | status_code: 403\n",
      "NotParsableFetchError History | 0 | 403 : https://www.nytimes.com/2017/04/13/opinion/reaching-out-to-the-voters-the-left-left-behind.html \n",
      "MetadataParser.fetch_url(https://www.nytimes.com/2024/06/22/well/the-vexing-problem-of-the-medium-friend.html?smid=nytcore-ios-share&referringSource=articleShare&sgrp=c-cb)\n"
     ]
    },
    {
     "name": "stdout",
     "output_type": "stream",
     "text": [
      "success row Dear White America\n",
      "trying row Reaching Out to the Voters the Left Left Behind\n",
      "oopsies on row Reaching Out to the Voters the Left Left Behind\n",
      "trying row The Vexing Problem of the ‘Medium Friend’\n"
     ]
    },
    {
     "name": "stderr",
     "output_type": "stream",
     "text": [
      "NotParsableFetchError | https://www.nytimes.com/2024/06/22/well/the-vexing-problem-of-the-medium-friend.html?smid=nytcore-ios-share&referringSource=articleShare&sgrp=c-cb | status_code: 403\n",
      "NotParsableFetchError History | 0 | 403 : https://www.nytimes.com/2024/06/22/well/the-vexing-problem-of-the-medium-friend.html?smid=nytcore-ios-share&referringSource=articleShare&sgrp=c-cb \n",
      "MetadataParser.fetch_url(https://www.theguardian.com/us-news/ng-interactive/2017/dec/20/bussed-out-america-moves-homeless-people-country-study)\n",
      "MetadataParser.fetch_url(https://wfh-inequalities.netlify.app/?utm_source=chartr&utm_medium=newsletter&utm_campaign=chartr_20230308)\n"
     ]
    },
    {
     "name": "stdout",
     "output_type": "stream",
     "text": [
      "oopsies on row The Vexing Problem of the ‘Medium Friend’\n",
      "trying row Bussed out: How America moves its homeless\n",
      "success row Bussed out: How America moves its homeless\n",
      "trying row Work From Home\n"
     ]
    },
    {
     "name": "stderr",
     "output_type": "stream",
     "text": [
      "MetadataParser.fetch_url(https://www.nytimes.com/2017/10/11/magazine/why-are-more-american-teenagers-than-ever-suffering-from-severe-anxiety.html?_r=0)\n",
      "NotParsableFetchError | https://www.nytimes.com/2017/10/11/magazine/why-are-more-american-teenagers-than-ever-suffering-from-severe-anxiety.html?_r=0 | status_code: 403\n",
      "NotParsableFetchError History | 0 | 403 : https://www.nytimes.com/2017/10/11/magazine/why-are-more-american-teenagers-than-ever-suffering-from-severe-anxiety.html?_r=0 \n",
      "MetadataParser.fetch_url(https://www.nytimes.com/2019/05/10/style/modern-love-college-i-love-you-man-.html?smid=nytcore-ios-share)\n"
     ]
    },
    {
     "name": "stdout",
     "output_type": "stream",
     "text": [
      "success row Work From Home\n",
      "trying row Why Are More American Teenagers Than Ever Suffering From Severe Anxiety?\n",
      "oopsies on row Why Are More American Teenagers Than Ever Suffering From Severe Anxiety?\n",
      "trying row Why Can’t Men Say ‘I Love You’ to Each Other?\n"
     ]
    },
    {
     "name": "stderr",
     "output_type": "stream",
     "text": [
      "NotParsableFetchError | https://www.nytimes.com/2019/05/10/style/modern-love-college-i-love-you-man-.html?smid=nytcore-ios-share | status_code: 403\n",
      "NotParsableFetchError History | 0 | 403 : https://www.nytimes.com/2019/05/10/style/modern-love-college-i-love-you-man-.html?smid=nytcore-ios-share \n",
      "MetadataParser.fetch_url(https://www.vox.com/the-goods/2019/6/11/18659770/plane-ticket-nashville-father-dementia?fbclid=IwAR3w3vkO5AsbqxTU10dsO4hMW6p3jYV4jtezvkT_yxb8T-VF9pNmwcrfmIE)\n",
      "MetadataParser.fetch_url(https://www.newyorker.com/culture/photo-booth/a-photographers-old-college-classmates-back-then-and-now?utm_medium=social&mbid=social_facebook&utm_social-type=owned&utm_source=facebook&utm_brand=tny)\n"
     ]
    },
    {
     "name": "stdout",
     "output_type": "stream",
     "text": [
      "oopsies on row Why Can’t Men Say ‘I Love You’ to Each Other?\n",
      "trying row The best $300 I ever spent: a ticket home to see my dad\n",
      "success row The best $300 I ever spent: a ticket home to see my dad\n",
      "trying row A Photographer’s Old College Classmates, Back Then and Now\n"
     ]
    },
    {
     "name": "stderr",
     "output_type": "stream",
     "text": [
      "MetadataParser.fetch_url(https://www.theatlantic.com/ideas/archive/2019/04/what-college-admissions-scandal-reveals/586468/?fbclid=IwAR1wGnkfdb9BdaVP7fJG-PcmIi5uNEqhkbj-xiG68xrp1xuMtFMRv8SHbLg)\n",
      "MetadataParser.fetch_url(https://www.nytimes.com/2019/12/14/us/politics/bloomberg-mayors-2020.html?smid=nytcore-ios-share)\n"
     ]
    },
    {
     "name": "stdout",
     "output_type": "stream",
     "text": [
      "success row A Photographer’s Old College Classmates, Back Then and Now\n",
      "trying row They Had It Coming\n",
      "success row They Had It Coming\n",
      "trying row ‘Mayors for Mike’: How Bloomberg’s Money Built a 2020 Political Network\n"
     ]
    },
    {
     "name": "stderr",
     "output_type": "stream",
     "text": [
      "NotParsableFetchError | https://www.nytimes.com/2019/12/14/us/politics/bloomberg-mayors-2020.html?smid=nytcore-ios-share | status_code: 403\n",
      "NotParsableFetchError History | 0 | 403 : https://www.nytimes.com/2019/12/14/us/politics/bloomberg-mayors-2020.html?smid=nytcore-ios-share \n",
      "MetadataParser.fetch_url(https://www.nytimes.com/interactive/2017/02/27/us/politics/most-important-problem-gallup-polling-question.html?smid=fb-nytimes&smtyp=cur&_r=1&mtrref=www.facebook.com)\n",
      "MetadataParser.fetch_url(http://progressive.org/magazine/letter-nephew/)\n"
     ]
    },
    {
     "name": "stdout",
     "output_type": "stream",
     "text": [
      "oopsies on row ‘Mayors for Mike’: How Bloomberg’s Money Built a 2020 Political Network\n",
      "trying row ‘What Do You Think Is the Most Important Problem Facing This Country Today?’\n",
      "success row ‘What Do You Think Is the Most Important Problem Facing This Country Today?’\n",
      "trying row A Letter to My Nephew\n"
     ]
    },
    {
     "name": "stderr",
     "output_type": "stream",
     "text": [
      "MetadataParser.fetch_url(https://www.washingtonpost.com/graphics/2018/national/segregation-us-cities/?utm_term=.e0cf22d782f1)\n"
     ]
    },
    {
     "name": "stdout",
     "output_type": "stream",
     "text": [
      "success row A Letter to My Nephew\n",
      "trying row America is more diverse than ever—but still segregated\n"
     ]
    },
    {
     "ename": "KeyboardInterrupt",
     "evalue": "",
     "output_type": "error",
     "traceback": [
      "\u001b[0;31m---------------------------------------------------------------------------\u001b[0m",
      "\u001b[0;31mKeyboardInterrupt\u001b[0m                         Traceback (most recent call last)",
      "Cell \u001b[0;32mIn[7], line 2\u001b[0m\n\u001b[1;32m      1\u001b[0m records \u001b[38;5;241m=\u001b[39m pull_records()\n\u001b[0;32m----> 2\u001b[0m \u001b[43mscrape_metadata\u001b[49m\u001b[43m(\u001b[49m\u001b[43mrecords\u001b[49m\u001b[43m,\u001b[49m\u001b[43mexport\u001b[49m\u001b[43m \u001b[49m\u001b[38;5;241;43m=\u001b[39;49m\u001b[43m \u001b[49m\u001b[38;5;28;43;01mTrue\u001b[39;49;00m\u001b[43m)\u001b[49m\n",
      "Cell \u001b[0;32mIn[2], line 41\u001b[0m, in \u001b[0;36mscrape_metadata\u001b[0;34m(records, export)\u001b[0m\n\u001b[1;32m     39\u001b[0m \u001b[38;5;28mprint\u001b[39m(\u001b[38;5;124mf\u001b[39m\u001b[38;5;124m\"\u001b[39m\u001b[38;5;124mgetting meta for \u001b[39m\u001b[38;5;132;01m{\u001b[39;00mi\u001b[38;5;132;01m}\u001b[39;00m\u001b[38;5;124m to \u001b[39m\u001b[38;5;132;01m{\u001b[39;00mi \u001b[38;5;241m+\u001b[39m \u001b[38;5;241m100\u001b[39m\u001b[38;5;132;01m}\u001b[39;00m\u001b[38;5;124m\"\u001b[39m)\n\u001b[1;32m     40\u001b[0m records_meta \u001b[38;5;241m=\u001b[39m records[i:i \u001b[38;5;241m+\u001b[39m \u001b[38;5;241m100\u001b[39m]      \n\u001b[0;32m---> 41\u001b[0m meta \u001b[38;5;241m=\u001b[39m \u001b[43mrecords_meta\u001b[49m\u001b[38;5;241;43m.\u001b[39;49m\u001b[43mapply\u001b[49m\u001b[43m(\u001b[49m\u001b[43mget_meta\u001b[49m\u001b[43m,\u001b[49m\u001b[43m \u001b[49m\u001b[43maxis\u001b[49m\u001b[38;5;241;43m=\u001b[39;49m\u001b[38;5;241;43m1\u001b[39;49m\u001b[43m)\u001b[49m\n\u001b[1;32m     42\u001b[0m \u001b[38;5;28mprint\u001b[39m(\u001b[38;5;28mlen\u001b[39m(meta))\n\u001b[1;32m     43\u001b[0m clean_meta_dict \u001b[38;5;241m=\u001b[39m clean_meta_dict \u001b[38;5;241m+\u001b[39m [r[\u001b[38;5;241m0\u001b[39m] \u001b[38;5;28;01mfor\u001b[39;00m r \u001b[38;5;129;01min\u001b[39;00m meta\u001b[38;5;241m.\u001b[39mtolist() \u001b[38;5;28;01mif\u001b[39;00m \u001b[38;5;28mlen\u001b[39m(r) \u001b[38;5;241m>\u001b[39m \u001b[38;5;241m0\u001b[39m \u001b[38;5;129;01mand\u001b[39;00m \u001b[38;5;28mlen\u001b[39m(r[\u001b[38;5;241m0\u001b[39m]) \u001b[38;5;241m>\u001b[39m \u001b[38;5;241m0\u001b[39m]\n",
      "File \u001b[0;32m~/anaconda3/lib/python3.10/site-packages/pandas/core/frame.py:9568\u001b[0m, in \u001b[0;36mDataFrame.apply\u001b[0;34m(self, func, axis, raw, result_type, args, **kwargs)\u001b[0m\n\u001b[1;32m   9557\u001b[0m \u001b[38;5;28;01mfrom\u001b[39;00m \u001b[38;5;21;01mpandas\u001b[39;00m\u001b[38;5;21;01m.\u001b[39;00m\u001b[38;5;21;01mcore\u001b[39;00m\u001b[38;5;21;01m.\u001b[39;00m\u001b[38;5;21;01mapply\u001b[39;00m \u001b[38;5;28;01mimport\u001b[39;00m frame_apply\n\u001b[1;32m   9559\u001b[0m op \u001b[38;5;241m=\u001b[39m frame_apply(\n\u001b[1;32m   9560\u001b[0m     \u001b[38;5;28mself\u001b[39m,\n\u001b[1;32m   9561\u001b[0m     func\u001b[38;5;241m=\u001b[39mfunc,\n\u001b[0;32m   (...)\u001b[0m\n\u001b[1;32m   9566\u001b[0m     kwargs\u001b[38;5;241m=\u001b[39mkwargs,\n\u001b[1;32m   9567\u001b[0m )\n\u001b[0;32m-> 9568\u001b[0m \u001b[38;5;28;01mreturn\u001b[39;00m \u001b[43mop\u001b[49m\u001b[38;5;241;43m.\u001b[39;49m\u001b[43mapply\u001b[49m\u001b[43m(\u001b[49m\u001b[43m)\u001b[49m\u001b[38;5;241m.\u001b[39m__finalize__(\u001b[38;5;28mself\u001b[39m, method\u001b[38;5;241m=\u001b[39m\u001b[38;5;124m\"\u001b[39m\u001b[38;5;124mapply\u001b[39m\u001b[38;5;124m\"\u001b[39m)\n",
      "File \u001b[0;32m~/anaconda3/lib/python3.10/site-packages/pandas/core/apply.py:764\u001b[0m, in \u001b[0;36mFrameApply.apply\u001b[0;34m(self)\u001b[0m\n\u001b[1;32m    761\u001b[0m \u001b[38;5;28;01melif\u001b[39;00m \u001b[38;5;28mself\u001b[39m\u001b[38;5;241m.\u001b[39mraw:\n\u001b[1;32m    762\u001b[0m     \u001b[38;5;28;01mreturn\u001b[39;00m \u001b[38;5;28mself\u001b[39m\u001b[38;5;241m.\u001b[39mapply_raw()\n\u001b[0;32m--> 764\u001b[0m \u001b[38;5;28;01mreturn\u001b[39;00m \u001b[38;5;28;43mself\u001b[39;49m\u001b[38;5;241;43m.\u001b[39;49m\u001b[43mapply_standard\u001b[49m\u001b[43m(\u001b[49m\u001b[43m)\u001b[49m\n",
      "File \u001b[0;32m~/anaconda3/lib/python3.10/site-packages/pandas/core/apply.py:891\u001b[0m, in \u001b[0;36mFrameApply.apply_standard\u001b[0;34m(self)\u001b[0m\n\u001b[1;32m    890\u001b[0m \u001b[38;5;28;01mdef\u001b[39;00m \u001b[38;5;21mapply_standard\u001b[39m(\u001b[38;5;28mself\u001b[39m):\n\u001b[0;32m--> 891\u001b[0m     results, res_index \u001b[38;5;241m=\u001b[39m \u001b[38;5;28;43mself\u001b[39;49m\u001b[38;5;241;43m.\u001b[39;49m\u001b[43mapply_series_generator\u001b[49m\u001b[43m(\u001b[49m\u001b[43m)\u001b[49m\n\u001b[1;32m    893\u001b[0m     \u001b[38;5;66;03m# wrap results\u001b[39;00m\n\u001b[1;32m    894\u001b[0m     \u001b[38;5;28;01mreturn\u001b[39;00m \u001b[38;5;28mself\u001b[39m\u001b[38;5;241m.\u001b[39mwrap_results(results, res_index)\n",
      "File \u001b[0;32m~/anaconda3/lib/python3.10/site-packages/pandas/core/apply.py:907\u001b[0m, in \u001b[0;36mFrameApply.apply_series_generator\u001b[0;34m(self)\u001b[0m\n\u001b[1;32m    904\u001b[0m \u001b[38;5;28;01mwith\u001b[39;00m option_context(\u001b[38;5;124m\"\u001b[39m\u001b[38;5;124mmode.chained_assignment\u001b[39m\u001b[38;5;124m\"\u001b[39m, \u001b[38;5;28;01mNone\u001b[39;00m):\n\u001b[1;32m    905\u001b[0m     \u001b[38;5;28;01mfor\u001b[39;00m i, v \u001b[38;5;129;01min\u001b[39;00m \u001b[38;5;28menumerate\u001b[39m(series_gen):\n\u001b[1;32m    906\u001b[0m         \u001b[38;5;66;03m# ignore SettingWithCopy here in case the user mutates\u001b[39;00m\n\u001b[0;32m--> 907\u001b[0m         results[i] \u001b[38;5;241m=\u001b[39m \u001b[38;5;28;43mself\u001b[39;49m\u001b[38;5;241;43m.\u001b[39;49m\u001b[43mf\u001b[49m\u001b[43m(\u001b[49m\u001b[43mv\u001b[49m\u001b[43m)\u001b[49m\n\u001b[1;32m    908\u001b[0m         \u001b[38;5;28;01mif\u001b[39;00m \u001b[38;5;28misinstance\u001b[39m(results[i], ABCSeries):\n\u001b[1;32m    909\u001b[0m             \u001b[38;5;66;03m# If we have a view on v, we need to make a copy because\u001b[39;00m\n\u001b[1;32m    910\u001b[0m             \u001b[38;5;66;03m#  series_generator will swap out the underlying data\u001b[39;00m\n\u001b[1;32m    911\u001b[0m             results[i] \u001b[38;5;241m=\u001b[39m results[i]\u001b[38;5;241m.\u001b[39mcopy(deep\u001b[38;5;241m=\u001b[39m\u001b[38;5;28;01mFalse\u001b[39;00m)\n",
      "Cell \u001b[0;32mIn[2], line 8\u001b[0m, in \u001b[0;36mget_meta\u001b[0;34m(row)\u001b[0m\n\u001b[1;32m      6\u001b[0m \u001b[38;5;28;01mtry\u001b[39;00m:\n\u001b[1;32m      7\u001b[0m     \u001b[38;5;28mprint\u001b[39m(\u001b[38;5;124mf\u001b[39m\u001b[38;5;124m\"\u001b[39m\u001b[38;5;124mtrying row \u001b[39m\u001b[38;5;132;01m{\u001b[39;00mrow[\u001b[38;5;124m'\u001b[39m\u001b[38;5;124mtitle\u001b[39m\u001b[38;5;124m'\u001b[39m]\u001b[38;5;132;01m}\u001b[39;00m\u001b[38;5;124m\"\u001b[39m)\n\u001b[0;32m----> 8\u001b[0m     page \u001b[38;5;241m=\u001b[39m \u001b[43mmetadata_parser\u001b[49m\u001b[38;5;241;43m.\u001b[39;49m\u001b[43mMetadataParser\u001b[49m\u001b[43m(\u001b[49m\u001b[43murl\u001b[49m\u001b[38;5;241;43m=\u001b[39;49m\u001b[43mrow\u001b[49m\u001b[43m[\u001b[49m\u001b[38;5;124;43m\"\u001b[39;49m\u001b[38;5;124;43mlink\u001b[39;49m\u001b[38;5;124;43m\"\u001b[39;49m\u001b[43m]\u001b[49m\u001b[43m)\u001b[49m\n\u001b[1;32m      9\u001b[0m     meta\u001b[38;5;241m.\u001b[39mappend(page\u001b[38;5;241m.\u001b[39mmetadata[\u001b[38;5;124m\"\u001b[39m\u001b[38;5;124mog\u001b[39m\u001b[38;5;124m\"\u001b[39m])\n\u001b[1;32m     10\u001b[0m \u001b[38;5;28;01mexcept\u001b[39;00m \u001b[38;5;167;01mException\u001b[39;00m \u001b[38;5;28;01mas\u001b[39;00m e:\n",
      "File \u001b[0;32m~/anaconda3/lib/python3.10/site-packages/metadata_parser/__init__.py:1597\u001b[0m, in \u001b[0;36mMetadataParser.__init__\u001b[0;34m(self, url, html, strategy, url_data, url_headers, force_parse, ssl_verify, only_parse_file_extensions, force_parse_invalid_content_type, require_public_netloc, allow_localhosts, force_doctype, requests_timeout, raise_on_invalid, search_head_only, allow_redirects, requests_session, only_parse_http_ok, defer_fetch, derive_encoding, html_encoding, default_encoding, default_encoder, retry_dropped_without_headers, support_malformed, cached_urlparser)\u001b[0m\n\u001b[1;32m   1595\u001b[0m         \u001b[38;5;28mself\u001b[39m\u001b[38;5;241m.\u001b[39mdeferred_fetch \u001b[38;5;241m=\u001b[39m deferred_fetch  \u001b[38;5;66;03m# type: ignore[method-assign]\u001b[39;00m\n\u001b[1;32m   1596\u001b[0m         \u001b[38;5;28;01mreturn\u001b[39;00m\n\u001b[0;32m-> 1597\u001b[0m     (html, html_encoding, _response_history) \u001b[38;5;241m=\u001b[39m \u001b[38;5;28;43mself\u001b[39;49m\u001b[38;5;241;43m.\u001b[39;49m\u001b[43mfetch_url\u001b[49m\u001b[43m(\u001b[49m\n\u001b[1;32m   1598\u001b[0m \u001b[43m        \u001b[49m\u001b[43murl_data\u001b[49m\u001b[38;5;241;43m=\u001b[39;49m\u001b[43murl_data\u001b[49m\u001b[43m,\u001b[49m\n\u001b[1;32m   1599\u001b[0m \u001b[43m        \u001b[49m\u001b[43murl_headers\u001b[49m\u001b[38;5;241;43m=\u001b[39;49m\u001b[43murl_headers\u001b[49m\u001b[43m,\u001b[49m\n\u001b[1;32m   1600\u001b[0m \u001b[43m        \u001b[49m\u001b[43mretry_dropped_without_headers\u001b[49m\u001b[38;5;241;43m=\u001b[39;49m\u001b[43mretry_dropped_without_headers\u001b[49m\u001b[43m,\u001b[49m\n\u001b[1;32m   1601\u001b[0m \u001b[43m    \u001b[49m\u001b[43m)\u001b[49m\n\u001b[1;32m   1602\u001b[0m \u001b[38;5;28;01melse\u001b[39;00m:\n\u001b[1;32m   1603\u001b[0m     \u001b[38;5;66;03m# our html should always be unicode coming from `requests`\u001b[39;00m\n\u001b[1;32m   1604\u001b[0m     html \u001b[38;5;241m=\u001b[39m \u001b[38;5;124m\"\u001b[39m\u001b[38;5;124m\"\u001b[39m\n",
      "File \u001b[0;32m~/anaconda3/lib/python3.10/site-packages/metadata_parser/__init__.py:1858\u001b[0m, in \u001b[0;36mMetadataParser.fetch_url\u001b[0;34m(self, url_data, url_headers, force_parse, force_parse_invalid_content_type, allow_redirects, ssl_verify, requests_timeout, requests_session, only_parse_http_ok, derive_encoding, default_encoding, retry_dropped_without_headers)\u001b[0m\n\u001b[1;32m   1856\u001b[0m \u001b[38;5;28;01mif\u001b[39;00m requests_session \u001b[38;5;129;01mis\u001b[39;00m \u001b[38;5;28;01mNone\u001b[39;00m:\n\u001b[1;32m   1857\u001b[0m     \u001b[38;5;28;01mwith\u001b[39;00m requests\u001b[38;5;241m.\u001b[39mSession() \u001b[38;5;28;01mas\u001b[39;00m requests_session:\n\u001b[0;32m-> 1858\u001b[0m         resp \u001b[38;5;241m=\u001b[39m \u001b[43m_run_in_session\u001b[49m\u001b[43m(\u001b[49m\u001b[43mrequests_session\u001b[49m\u001b[43m)\u001b[49m\n\u001b[1;32m   1859\u001b[0m \u001b[38;5;28;01melse\u001b[39;00m:\n\u001b[1;32m   1860\u001b[0m     resp \u001b[38;5;241m=\u001b[39m _run_in_session(requests_session)\n",
      "File \u001b[0;32m~/anaconda3/lib/python3.10/site-packages/metadata_parser/__init__.py:1830\u001b[0m, in \u001b[0;36mMetadataParser.fetch_url.<locals>._run_in_session\u001b[0;34m(_requests_session)\u001b[0m\n\u001b[1;32m   1826\u001b[0m         _requests_session\u001b[38;5;241m.\u001b[39mhooks[\u001b[38;5;124m\"\u001b[39m\u001b[38;5;124mresponse\u001b[39m\u001b[38;5;124m\"\u001b[39m]\u001b[38;5;241m.\u001b[39mappend(\n\u001b[1;32m   1827\u001b[0m             derive_encoding__hook\n\u001b[1;32m   1828\u001b[0m         )\n\u001b[1;32m   1829\u001b[0m \u001b[38;5;28;01mtry\u001b[39;00m:\n\u001b[0;32m-> 1830\u001b[0m     _resp \u001b[38;5;241m=\u001b[39m \u001b[43m_requests_session\u001b[49m\u001b[38;5;241;43m.\u001b[39;49m\u001b[43mget\u001b[49m\u001b[43m(\u001b[49m\n\u001b[1;32m   1831\u001b[0m \u001b[43m        \u001b[49m\u001b[43murl\u001b[49m\u001b[43m,\u001b[49m\n\u001b[1;32m   1832\u001b[0m \u001b[43m        \u001b[49m\u001b[43mparams\u001b[49m\u001b[38;5;241;43m=\u001b[39;49m\u001b[43murl_data\u001b[49m\u001b[43m,\u001b[49m\n\u001b[1;32m   1833\u001b[0m \u001b[43m        \u001b[49m\u001b[43mheaders\u001b[49m\u001b[38;5;241;43m=\u001b[39;49m\u001b[43murl_headers\u001b[49m\u001b[43m,\u001b[49m\n\u001b[1;32m   1834\u001b[0m \u001b[43m        \u001b[49m\u001b[43mallow_redirects\u001b[49m\u001b[38;5;241;43m=\u001b[39;49m\u001b[43mallow_redirects\u001b[49m\u001b[43m,\u001b[49m\n\u001b[1;32m   1835\u001b[0m \u001b[43m        \u001b[49m\u001b[43mverify\u001b[49m\u001b[38;5;241;43m=\u001b[39;49m\u001b[43mssl_verify\u001b[49m\u001b[43m,\u001b[49m\n\u001b[1;32m   1836\u001b[0m \u001b[43m        \u001b[49m\u001b[43mtimeout\u001b[49m\u001b[38;5;241;43m=\u001b[39;49m\u001b[43mrequests_timeout\u001b[49m\u001b[43m,\u001b[49m\n\u001b[1;32m   1837\u001b[0m \u001b[43m        \u001b[49m\u001b[43mstream\u001b[49m\u001b[38;5;241;43m=\u001b[39;49m\u001b[38;5;28;43;01mTrue\u001b[39;49;00m\u001b[43m,\u001b[49m\n\u001b[1;32m   1838\u001b[0m \u001b[43m    \u001b[49m\u001b[43m)\u001b[49m\n\u001b[1;32m   1839\u001b[0m \u001b[38;5;28;01mexcept\u001b[39;00m requests\u001b[38;5;241m.\u001b[39mexceptions\u001b[38;5;241m.\u001b[39mChunkedEncodingError \u001b[38;5;28;01mas\u001b[39;00m exc:  \u001b[38;5;66;03m# noqa: F841\u001b[39;00m\n\u001b[1;32m   1840\u001b[0m     \u001b[38;5;66;03m# some servers drop a connection on the bad user-agent\u001b[39;00m\n\u001b[1;32m   1841\u001b[0m     \u001b[38;5;28;01mif\u001b[39;00m \u001b[38;5;129;01mnot\u001b[39;00m url_headers:\n",
      "File \u001b[0;32m~/anaconda3/lib/python3.10/site-packages/requests/sessions.py:600\u001b[0m, in \u001b[0;36mSession.get\u001b[0;34m(self, url, **kwargs)\u001b[0m\n\u001b[1;32m    592\u001b[0m \u001b[38;5;124mr\u001b[39m\u001b[38;5;124;03m\"\"\"Sends a GET request. Returns :class:`Response` object.\u001b[39;00m\n\u001b[1;32m    593\u001b[0m \n\u001b[1;32m    594\u001b[0m \u001b[38;5;124;03m:param url: URL for the new :class:`Request` object.\u001b[39;00m\n\u001b[1;32m    595\u001b[0m \u001b[38;5;124;03m:param \\*\\*kwargs: Optional arguments that ``request`` takes.\u001b[39;00m\n\u001b[1;32m    596\u001b[0m \u001b[38;5;124;03m:rtype: requests.Response\u001b[39;00m\n\u001b[1;32m    597\u001b[0m \u001b[38;5;124;03m\"\"\"\u001b[39;00m\n\u001b[1;32m    599\u001b[0m kwargs\u001b[38;5;241m.\u001b[39msetdefault(\u001b[38;5;124m\"\u001b[39m\u001b[38;5;124mallow_redirects\u001b[39m\u001b[38;5;124m\"\u001b[39m, \u001b[38;5;28;01mTrue\u001b[39;00m)\n\u001b[0;32m--> 600\u001b[0m \u001b[38;5;28;01mreturn\u001b[39;00m \u001b[38;5;28;43mself\u001b[39;49m\u001b[38;5;241;43m.\u001b[39;49m\u001b[43mrequest\u001b[49m\u001b[43m(\u001b[49m\u001b[38;5;124;43m\"\u001b[39;49m\u001b[38;5;124;43mGET\u001b[39;49m\u001b[38;5;124;43m\"\u001b[39;49m\u001b[43m,\u001b[49m\u001b[43m \u001b[49m\u001b[43murl\u001b[49m\u001b[43m,\u001b[49m\u001b[43m \u001b[49m\u001b[38;5;241;43m*\u001b[39;49m\u001b[38;5;241;43m*\u001b[39;49m\u001b[43mkwargs\u001b[49m\u001b[43m)\u001b[49m\n",
      "File \u001b[0;32m~/anaconda3/lib/python3.10/site-packages/requests/sessions.py:587\u001b[0m, in \u001b[0;36mSession.request\u001b[0;34m(self, method, url, params, data, headers, cookies, files, auth, timeout, allow_redirects, proxies, hooks, stream, verify, cert, json)\u001b[0m\n\u001b[1;32m    582\u001b[0m send_kwargs \u001b[38;5;241m=\u001b[39m {\n\u001b[1;32m    583\u001b[0m     \u001b[38;5;124m\"\u001b[39m\u001b[38;5;124mtimeout\u001b[39m\u001b[38;5;124m\"\u001b[39m: timeout,\n\u001b[1;32m    584\u001b[0m     \u001b[38;5;124m\"\u001b[39m\u001b[38;5;124mallow_redirects\u001b[39m\u001b[38;5;124m\"\u001b[39m: allow_redirects,\n\u001b[1;32m    585\u001b[0m }\n\u001b[1;32m    586\u001b[0m send_kwargs\u001b[38;5;241m.\u001b[39mupdate(settings)\n\u001b[0;32m--> 587\u001b[0m resp \u001b[38;5;241m=\u001b[39m \u001b[38;5;28;43mself\u001b[39;49m\u001b[38;5;241;43m.\u001b[39;49m\u001b[43msend\u001b[49m\u001b[43m(\u001b[49m\u001b[43mprep\u001b[49m\u001b[43m,\u001b[49m\u001b[43m \u001b[49m\u001b[38;5;241;43m*\u001b[39;49m\u001b[38;5;241;43m*\u001b[39;49m\u001b[43msend_kwargs\u001b[49m\u001b[43m)\u001b[49m\n\u001b[1;32m    589\u001b[0m \u001b[38;5;28;01mreturn\u001b[39;00m resp\n",
      "File \u001b[0;32m~/anaconda3/lib/python3.10/site-packages/requests/sessions.py:701\u001b[0m, in \u001b[0;36mSession.send\u001b[0;34m(self, request, **kwargs)\u001b[0m\n\u001b[1;32m    698\u001b[0m start \u001b[38;5;241m=\u001b[39m preferred_clock()\n\u001b[1;32m    700\u001b[0m \u001b[38;5;66;03m# Send the request\u001b[39;00m\n\u001b[0;32m--> 701\u001b[0m r \u001b[38;5;241m=\u001b[39m \u001b[43madapter\u001b[49m\u001b[38;5;241;43m.\u001b[39;49m\u001b[43msend\u001b[49m\u001b[43m(\u001b[49m\u001b[43mrequest\u001b[49m\u001b[43m,\u001b[49m\u001b[43m \u001b[49m\u001b[38;5;241;43m*\u001b[39;49m\u001b[38;5;241;43m*\u001b[39;49m\u001b[43mkwargs\u001b[49m\u001b[43m)\u001b[49m\n\u001b[1;32m    703\u001b[0m \u001b[38;5;66;03m# Total elapsed time of the request (approximately)\u001b[39;00m\n\u001b[1;32m    704\u001b[0m elapsed \u001b[38;5;241m=\u001b[39m preferred_clock() \u001b[38;5;241m-\u001b[39m start\n",
      "File \u001b[0;32m~/anaconda3/lib/python3.10/site-packages/requests/adapters.py:489\u001b[0m, in \u001b[0;36mHTTPAdapter.send\u001b[0;34m(self, request, stream, timeout, verify, cert, proxies)\u001b[0m\n\u001b[1;32m    487\u001b[0m \u001b[38;5;28;01mtry\u001b[39;00m:\n\u001b[1;32m    488\u001b[0m     \u001b[38;5;28;01mif\u001b[39;00m \u001b[38;5;129;01mnot\u001b[39;00m chunked:\n\u001b[0;32m--> 489\u001b[0m         resp \u001b[38;5;241m=\u001b[39m \u001b[43mconn\u001b[49m\u001b[38;5;241;43m.\u001b[39;49m\u001b[43murlopen\u001b[49m\u001b[43m(\u001b[49m\n\u001b[1;32m    490\u001b[0m \u001b[43m            \u001b[49m\u001b[43mmethod\u001b[49m\u001b[38;5;241;43m=\u001b[39;49m\u001b[43mrequest\u001b[49m\u001b[38;5;241;43m.\u001b[39;49m\u001b[43mmethod\u001b[49m\u001b[43m,\u001b[49m\n\u001b[1;32m    491\u001b[0m \u001b[43m            \u001b[49m\u001b[43murl\u001b[49m\u001b[38;5;241;43m=\u001b[39;49m\u001b[43murl\u001b[49m\u001b[43m,\u001b[49m\n\u001b[1;32m    492\u001b[0m \u001b[43m            \u001b[49m\u001b[43mbody\u001b[49m\u001b[38;5;241;43m=\u001b[39;49m\u001b[43mrequest\u001b[49m\u001b[38;5;241;43m.\u001b[39;49m\u001b[43mbody\u001b[49m\u001b[43m,\u001b[49m\n\u001b[1;32m    493\u001b[0m \u001b[43m            \u001b[49m\u001b[43mheaders\u001b[49m\u001b[38;5;241;43m=\u001b[39;49m\u001b[43mrequest\u001b[49m\u001b[38;5;241;43m.\u001b[39;49m\u001b[43mheaders\u001b[49m\u001b[43m,\u001b[49m\n\u001b[1;32m    494\u001b[0m \u001b[43m            \u001b[49m\u001b[43mredirect\u001b[49m\u001b[38;5;241;43m=\u001b[39;49m\u001b[38;5;28;43;01mFalse\u001b[39;49;00m\u001b[43m,\u001b[49m\n\u001b[1;32m    495\u001b[0m \u001b[43m            \u001b[49m\u001b[43massert_same_host\u001b[49m\u001b[38;5;241;43m=\u001b[39;49m\u001b[38;5;28;43;01mFalse\u001b[39;49;00m\u001b[43m,\u001b[49m\n\u001b[1;32m    496\u001b[0m \u001b[43m            \u001b[49m\u001b[43mpreload_content\u001b[49m\u001b[38;5;241;43m=\u001b[39;49m\u001b[38;5;28;43;01mFalse\u001b[39;49;00m\u001b[43m,\u001b[49m\n\u001b[1;32m    497\u001b[0m \u001b[43m            \u001b[49m\u001b[43mdecode_content\u001b[49m\u001b[38;5;241;43m=\u001b[39;49m\u001b[38;5;28;43;01mFalse\u001b[39;49;00m\u001b[43m,\u001b[49m\n\u001b[1;32m    498\u001b[0m \u001b[43m            \u001b[49m\u001b[43mretries\u001b[49m\u001b[38;5;241;43m=\u001b[39;49m\u001b[38;5;28;43mself\u001b[39;49m\u001b[38;5;241;43m.\u001b[39;49m\u001b[43mmax_retries\u001b[49m\u001b[43m,\u001b[49m\n\u001b[1;32m    499\u001b[0m \u001b[43m            \u001b[49m\u001b[43mtimeout\u001b[49m\u001b[38;5;241;43m=\u001b[39;49m\u001b[43mtimeout\u001b[49m\u001b[43m,\u001b[49m\n\u001b[1;32m    500\u001b[0m \u001b[43m        \u001b[49m\u001b[43m)\u001b[49m\n\u001b[1;32m    502\u001b[0m     \u001b[38;5;66;03m# Send the request.\u001b[39;00m\n\u001b[1;32m    503\u001b[0m     \u001b[38;5;28;01melse\u001b[39;00m:\n\u001b[1;32m    504\u001b[0m         \u001b[38;5;28;01mif\u001b[39;00m \u001b[38;5;28mhasattr\u001b[39m(conn, \u001b[38;5;124m\"\u001b[39m\u001b[38;5;124mproxy_pool\u001b[39m\u001b[38;5;124m\"\u001b[39m):\n",
      "File \u001b[0;32m~/anaconda3/lib/python3.10/site-packages/urllib3/connectionpool.py:703\u001b[0m, in \u001b[0;36mHTTPConnectionPool.urlopen\u001b[0;34m(self, method, url, body, headers, retries, redirect, assert_same_host, timeout, pool_timeout, release_conn, chunked, body_pos, **response_kw)\u001b[0m\n\u001b[1;32m    700\u001b[0m     \u001b[38;5;28mself\u001b[39m\u001b[38;5;241m.\u001b[39m_prepare_proxy(conn)\n\u001b[1;32m    702\u001b[0m \u001b[38;5;66;03m# Make the request on the httplib connection object.\u001b[39;00m\n\u001b[0;32m--> 703\u001b[0m httplib_response \u001b[38;5;241m=\u001b[39m \u001b[38;5;28;43mself\u001b[39;49m\u001b[38;5;241;43m.\u001b[39;49m\u001b[43m_make_request\u001b[49m\u001b[43m(\u001b[49m\n\u001b[1;32m    704\u001b[0m \u001b[43m    \u001b[49m\u001b[43mconn\u001b[49m\u001b[43m,\u001b[49m\n\u001b[1;32m    705\u001b[0m \u001b[43m    \u001b[49m\u001b[43mmethod\u001b[49m\u001b[43m,\u001b[49m\n\u001b[1;32m    706\u001b[0m \u001b[43m    \u001b[49m\u001b[43murl\u001b[49m\u001b[43m,\u001b[49m\n\u001b[1;32m    707\u001b[0m \u001b[43m    \u001b[49m\u001b[43mtimeout\u001b[49m\u001b[38;5;241;43m=\u001b[39;49m\u001b[43mtimeout_obj\u001b[49m\u001b[43m,\u001b[49m\n\u001b[1;32m    708\u001b[0m \u001b[43m    \u001b[49m\u001b[43mbody\u001b[49m\u001b[38;5;241;43m=\u001b[39;49m\u001b[43mbody\u001b[49m\u001b[43m,\u001b[49m\n\u001b[1;32m    709\u001b[0m \u001b[43m    \u001b[49m\u001b[43mheaders\u001b[49m\u001b[38;5;241;43m=\u001b[39;49m\u001b[43mheaders\u001b[49m\u001b[43m,\u001b[49m\n\u001b[1;32m    710\u001b[0m \u001b[43m    \u001b[49m\u001b[43mchunked\u001b[49m\u001b[38;5;241;43m=\u001b[39;49m\u001b[43mchunked\u001b[49m\u001b[43m,\u001b[49m\n\u001b[1;32m    711\u001b[0m \u001b[43m\u001b[49m\u001b[43m)\u001b[49m\n\u001b[1;32m    713\u001b[0m \u001b[38;5;66;03m# If we're going to release the connection in ``finally:``, then\u001b[39;00m\n\u001b[1;32m    714\u001b[0m \u001b[38;5;66;03m# the response doesn't need to know about the connection. Otherwise\u001b[39;00m\n\u001b[1;32m    715\u001b[0m \u001b[38;5;66;03m# it will also try to release it and we'll have a double-release\u001b[39;00m\n\u001b[1;32m    716\u001b[0m \u001b[38;5;66;03m# mess.\u001b[39;00m\n\u001b[1;32m    717\u001b[0m response_conn \u001b[38;5;241m=\u001b[39m conn \u001b[38;5;28;01mif\u001b[39;00m \u001b[38;5;129;01mnot\u001b[39;00m release_conn \u001b[38;5;28;01melse\u001b[39;00m \u001b[38;5;28;01mNone\u001b[39;00m\n",
      "File \u001b[0;32m~/anaconda3/lib/python3.10/site-packages/urllib3/connectionpool.py:449\u001b[0m, in \u001b[0;36mHTTPConnectionPool._make_request\u001b[0;34m(self, conn, method, url, timeout, chunked, **httplib_request_kw)\u001b[0m\n\u001b[1;32m    444\u001b[0m             httplib_response \u001b[38;5;241m=\u001b[39m conn\u001b[38;5;241m.\u001b[39mgetresponse()\n\u001b[1;32m    445\u001b[0m         \u001b[38;5;28;01mexcept\u001b[39;00m \u001b[38;5;167;01mBaseException\u001b[39;00m \u001b[38;5;28;01mas\u001b[39;00m e:\n\u001b[1;32m    446\u001b[0m             \u001b[38;5;66;03m# Remove the TypeError from the exception chain in\u001b[39;00m\n\u001b[1;32m    447\u001b[0m             \u001b[38;5;66;03m# Python 3 (including for exceptions like SystemExit).\u001b[39;00m\n\u001b[1;32m    448\u001b[0m             \u001b[38;5;66;03m# Otherwise it looks like a bug in the code.\u001b[39;00m\n\u001b[0;32m--> 449\u001b[0m             \u001b[43msix\u001b[49m\u001b[38;5;241;43m.\u001b[39;49m\u001b[43mraise_from\u001b[49m\u001b[43m(\u001b[49m\u001b[43me\u001b[49m\u001b[43m,\u001b[49m\u001b[43m \u001b[49m\u001b[38;5;28;43;01mNone\u001b[39;49;00m\u001b[43m)\u001b[49m\n\u001b[1;32m    450\u001b[0m \u001b[38;5;28;01mexcept\u001b[39;00m (SocketTimeout, BaseSSLError, SocketError) \u001b[38;5;28;01mas\u001b[39;00m e:\n\u001b[1;32m    451\u001b[0m     \u001b[38;5;28mself\u001b[39m\u001b[38;5;241m.\u001b[39m_raise_timeout(err\u001b[38;5;241m=\u001b[39me, url\u001b[38;5;241m=\u001b[39murl, timeout_value\u001b[38;5;241m=\u001b[39mread_timeout)\n",
      "File \u001b[0;32m<string>:3\u001b[0m, in \u001b[0;36mraise_from\u001b[0;34m(value, from_value)\u001b[0m\n",
      "File \u001b[0;32m~/anaconda3/lib/python3.10/site-packages/urllib3/connectionpool.py:444\u001b[0m, in \u001b[0;36mHTTPConnectionPool._make_request\u001b[0;34m(self, conn, method, url, timeout, chunked, **httplib_request_kw)\u001b[0m\n\u001b[1;32m    441\u001b[0m \u001b[38;5;28;01mexcept\u001b[39;00m \u001b[38;5;167;01mTypeError\u001b[39;00m:\n\u001b[1;32m    442\u001b[0m     \u001b[38;5;66;03m# Python 3\u001b[39;00m\n\u001b[1;32m    443\u001b[0m     \u001b[38;5;28;01mtry\u001b[39;00m:\n\u001b[0;32m--> 444\u001b[0m         httplib_response \u001b[38;5;241m=\u001b[39m \u001b[43mconn\u001b[49m\u001b[38;5;241;43m.\u001b[39;49m\u001b[43mgetresponse\u001b[49m\u001b[43m(\u001b[49m\u001b[43m)\u001b[49m\n\u001b[1;32m    445\u001b[0m     \u001b[38;5;28;01mexcept\u001b[39;00m \u001b[38;5;167;01mBaseException\u001b[39;00m \u001b[38;5;28;01mas\u001b[39;00m e:\n\u001b[1;32m    446\u001b[0m         \u001b[38;5;66;03m# Remove the TypeError from the exception chain in\u001b[39;00m\n\u001b[1;32m    447\u001b[0m         \u001b[38;5;66;03m# Python 3 (including for exceptions like SystemExit).\u001b[39;00m\n\u001b[1;32m    448\u001b[0m         \u001b[38;5;66;03m# Otherwise it looks like a bug in the code.\u001b[39;00m\n\u001b[1;32m    449\u001b[0m         six\u001b[38;5;241m.\u001b[39mraise_from(e, \u001b[38;5;28;01mNone\u001b[39;00m)\n",
      "File \u001b[0;32m~/anaconda3/lib/python3.10/http/client.py:1374\u001b[0m, in \u001b[0;36mHTTPConnection.getresponse\u001b[0;34m(self)\u001b[0m\n\u001b[1;32m   1372\u001b[0m \u001b[38;5;28;01mtry\u001b[39;00m:\n\u001b[1;32m   1373\u001b[0m     \u001b[38;5;28;01mtry\u001b[39;00m:\n\u001b[0;32m-> 1374\u001b[0m         \u001b[43mresponse\u001b[49m\u001b[38;5;241;43m.\u001b[39;49m\u001b[43mbegin\u001b[49m\u001b[43m(\u001b[49m\u001b[43m)\u001b[49m\n\u001b[1;32m   1375\u001b[0m     \u001b[38;5;28;01mexcept\u001b[39;00m \u001b[38;5;167;01mConnectionError\u001b[39;00m:\n\u001b[1;32m   1376\u001b[0m         \u001b[38;5;28mself\u001b[39m\u001b[38;5;241m.\u001b[39mclose()\n",
      "File \u001b[0;32m~/anaconda3/lib/python3.10/http/client.py:318\u001b[0m, in \u001b[0;36mHTTPResponse.begin\u001b[0;34m(self)\u001b[0m\n\u001b[1;32m    316\u001b[0m \u001b[38;5;66;03m# read until we get a non-100 response\u001b[39;00m\n\u001b[1;32m    317\u001b[0m \u001b[38;5;28;01mwhile\u001b[39;00m \u001b[38;5;28;01mTrue\u001b[39;00m:\n\u001b[0;32m--> 318\u001b[0m     version, status, reason \u001b[38;5;241m=\u001b[39m \u001b[38;5;28;43mself\u001b[39;49m\u001b[38;5;241;43m.\u001b[39;49m\u001b[43m_read_status\u001b[49m\u001b[43m(\u001b[49m\u001b[43m)\u001b[49m\n\u001b[1;32m    319\u001b[0m     \u001b[38;5;28;01mif\u001b[39;00m status \u001b[38;5;241m!=\u001b[39m CONTINUE:\n\u001b[1;32m    320\u001b[0m         \u001b[38;5;28;01mbreak\u001b[39;00m\n",
      "File \u001b[0;32m~/anaconda3/lib/python3.10/http/client.py:279\u001b[0m, in \u001b[0;36mHTTPResponse._read_status\u001b[0;34m(self)\u001b[0m\n\u001b[1;32m    278\u001b[0m \u001b[38;5;28;01mdef\u001b[39;00m \u001b[38;5;21m_read_status\u001b[39m(\u001b[38;5;28mself\u001b[39m):\n\u001b[0;32m--> 279\u001b[0m     line \u001b[38;5;241m=\u001b[39m \u001b[38;5;28mstr\u001b[39m(\u001b[38;5;28;43mself\u001b[39;49m\u001b[38;5;241;43m.\u001b[39;49m\u001b[43mfp\u001b[49m\u001b[38;5;241;43m.\u001b[39;49m\u001b[43mreadline\u001b[49m\u001b[43m(\u001b[49m\u001b[43m_MAXLINE\u001b[49m\u001b[43m \u001b[49m\u001b[38;5;241;43m+\u001b[39;49m\u001b[43m \u001b[49m\u001b[38;5;241;43m1\u001b[39;49m\u001b[43m)\u001b[49m, \u001b[38;5;124m\"\u001b[39m\u001b[38;5;124miso-8859-1\u001b[39m\u001b[38;5;124m\"\u001b[39m)\n\u001b[1;32m    280\u001b[0m     \u001b[38;5;28;01mif\u001b[39;00m \u001b[38;5;28mlen\u001b[39m(line) \u001b[38;5;241m>\u001b[39m _MAXLINE:\n\u001b[1;32m    281\u001b[0m         \u001b[38;5;28;01mraise\u001b[39;00m LineTooLong(\u001b[38;5;124m\"\u001b[39m\u001b[38;5;124mstatus line\u001b[39m\u001b[38;5;124m\"\u001b[39m)\n",
      "File \u001b[0;32m~/anaconda3/lib/python3.10/socket.py:705\u001b[0m, in \u001b[0;36mSocketIO.readinto\u001b[0;34m(self, b)\u001b[0m\n\u001b[1;32m    703\u001b[0m \u001b[38;5;28;01mwhile\u001b[39;00m \u001b[38;5;28;01mTrue\u001b[39;00m:\n\u001b[1;32m    704\u001b[0m     \u001b[38;5;28;01mtry\u001b[39;00m:\n\u001b[0;32m--> 705\u001b[0m         \u001b[38;5;28;01mreturn\u001b[39;00m \u001b[38;5;28;43mself\u001b[39;49m\u001b[38;5;241;43m.\u001b[39;49m\u001b[43m_sock\u001b[49m\u001b[38;5;241;43m.\u001b[39;49m\u001b[43mrecv_into\u001b[49m\u001b[43m(\u001b[49m\u001b[43mb\u001b[49m\u001b[43m)\u001b[49m\n\u001b[1;32m    706\u001b[0m     \u001b[38;5;28;01mexcept\u001b[39;00m timeout:\n\u001b[1;32m    707\u001b[0m         \u001b[38;5;28mself\u001b[39m\u001b[38;5;241m.\u001b[39m_timeout_occurred \u001b[38;5;241m=\u001b[39m \u001b[38;5;28;01mTrue\u001b[39;00m\n",
      "File \u001b[0;32m~/anaconda3/lib/python3.10/ssl.py:1274\u001b[0m, in \u001b[0;36mSSLSocket.recv_into\u001b[0;34m(self, buffer, nbytes, flags)\u001b[0m\n\u001b[1;32m   1270\u001b[0m     \u001b[38;5;28;01mif\u001b[39;00m flags \u001b[38;5;241m!=\u001b[39m \u001b[38;5;241m0\u001b[39m:\n\u001b[1;32m   1271\u001b[0m         \u001b[38;5;28;01mraise\u001b[39;00m \u001b[38;5;167;01mValueError\u001b[39;00m(\n\u001b[1;32m   1272\u001b[0m           \u001b[38;5;124m\"\u001b[39m\u001b[38;5;124mnon-zero flags not allowed in calls to recv_into() on \u001b[39m\u001b[38;5;132;01m%s\u001b[39;00m\u001b[38;5;124m\"\u001b[39m \u001b[38;5;241m%\u001b[39m\n\u001b[1;32m   1273\u001b[0m           \u001b[38;5;28mself\u001b[39m\u001b[38;5;241m.\u001b[39m\u001b[38;5;18m__class__\u001b[39m)\n\u001b[0;32m-> 1274\u001b[0m     \u001b[38;5;28;01mreturn\u001b[39;00m \u001b[38;5;28;43mself\u001b[39;49m\u001b[38;5;241;43m.\u001b[39;49m\u001b[43mread\u001b[49m\u001b[43m(\u001b[49m\u001b[43mnbytes\u001b[49m\u001b[43m,\u001b[49m\u001b[43m \u001b[49m\u001b[43mbuffer\u001b[49m\u001b[43m)\u001b[49m\n\u001b[1;32m   1275\u001b[0m \u001b[38;5;28;01melse\u001b[39;00m:\n\u001b[1;32m   1276\u001b[0m     \u001b[38;5;28;01mreturn\u001b[39;00m \u001b[38;5;28msuper\u001b[39m()\u001b[38;5;241m.\u001b[39mrecv_into(buffer, nbytes, flags)\n",
      "File \u001b[0;32m~/anaconda3/lib/python3.10/ssl.py:1130\u001b[0m, in \u001b[0;36mSSLSocket.read\u001b[0;34m(self, len, buffer)\u001b[0m\n\u001b[1;32m   1128\u001b[0m \u001b[38;5;28;01mtry\u001b[39;00m:\n\u001b[1;32m   1129\u001b[0m     \u001b[38;5;28;01mif\u001b[39;00m buffer \u001b[38;5;129;01mis\u001b[39;00m \u001b[38;5;129;01mnot\u001b[39;00m \u001b[38;5;28;01mNone\u001b[39;00m:\n\u001b[0;32m-> 1130\u001b[0m         \u001b[38;5;28;01mreturn\u001b[39;00m \u001b[38;5;28;43mself\u001b[39;49m\u001b[38;5;241;43m.\u001b[39;49m\u001b[43m_sslobj\u001b[49m\u001b[38;5;241;43m.\u001b[39;49m\u001b[43mread\u001b[49m\u001b[43m(\u001b[49m\u001b[38;5;28;43mlen\u001b[39;49m\u001b[43m,\u001b[49m\u001b[43m \u001b[49m\u001b[43mbuffer\u001b[49m\u001b[43m)\u001b[49m\n\u001b[1;32m   1131\u001b[0m     \u001b[38;5;28;01melse\u001b[39;00m:\n\u001b[1;32m   1132\u001b[0m         \u001b[38;5;28;01mreturn\u001b[39;00m \u001b[38;5;28mself\u001b[39m\u001b[38;5;241m.\u001b[39m_sslobj\u001b[38;5;241m.\u001b[39mread(\u001b[38;5;28mlen\u001b[39m)\n",
      "\u001b[0;31mKeyboardInterrupt\u001b[0m: "
     ]
    }
   ],
   "source": [
    "records = pull_records()\n",
    "scrape_metadata(records,export = True)"
   ]
  }
 ],
 "metadata": {
  "kernelspec": {
   "display_name": "Python 3",
   "language": "python",
   "name": "python3"
  },
  "language_info": {
   "codemirror_mode": {
    "name": "ipython",
    "version": 3
   },
   "file_extension": ".py",
   "mimetype": "text/x-python",
   "name": "python",
   "nbconvert_exporter": "python",
   "pygments_lexer": "ipython3",
   "version": "3.10.9"
  }
 },
 "nbformat": 4,
 "nbformat_minor": 2
}
