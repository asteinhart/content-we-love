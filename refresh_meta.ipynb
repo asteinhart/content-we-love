{
 "cells": [
  {
   "cell_type": "code",
   "execution_count": 1,
   "metadata": {},
   "outputs": [],
   "source": [
    "from helper import pull_records\n",
    "import pandas as pd\n",
    "import metadata_parser\n",
    "import json\n",
    "import pickle\n"
   ]
  },
  {
   "cell_type": "code",
   "execution_count": 2,
   "metadata": {},
   "outputs": [],
   "source": [
    "def get_meta(row):\n",
    "    \"\"\"\n",
    "    get meta data from a url\n",
    "    \"\"\"\n",
    "    meta = []\n",
    "    \n",
    "    try:\n",
    "        print(f\"trying row {row['title']}\")\n",
    "        page = metadata_parser.MetadataParser(url=row[\"link\"])\n",
    "        meta.append(page.metadata[\"og\"])\n",
    "    except Exception as e:\n",
    "        print(f\"oopsies on row {row['title']}\")\n",
    "    else:\n",
    "        print(f\"success row {row['title']}\")\n",
    "\n",
    "    return meta\n",
    "\n",
    "\n",
    "def scrape_metadata(records, export=False):\n",
    "    \"\"\"\n",
    "    get meta data from a list of records\n",
    "    \"\"\"\n",
    "    #only try to get metadata for records we dont already have\n",
    "    try:\n",
    "        with open(\"clean_meta.json\", \"r\") as file:\n",
    "            clean_meta = json.load(file)\n",
    "    except:\n",
    "        clean_meta = []\n",
    "\n",
    "    try:\n",
    "        with open(\"old_urls.pkl\", \"rb\") as file:\n",
    "            old_urls = pickle.load(file)\n",
    "    except:\n",
    "        old_urls = []\n",
    "\n",
    "    print('before: ', len(records))\n",
    "    records = records[~records[\"link\"].isin(old_urls)]\n",
    "    bad_records = ['Why police so rarely get charged for killing unarmed black men like Stephon Clark', \"America’s Most Diverse City Is Still Scarred by Its Past\", \"No game days. No bars. The pandemic is forcing some men to realize they need deeper friendships.\"]\n",
    "    records = records[~records[\"title\"].isin(bad_records)] \n",
    "\n",
    "    urls = records['link'].tolist()\n",
    "\n",
    "    print('after: ', len(records))\n",
    "    i = 0\n",
    "    clean_meta_dict = []\n",
    "    while i <= len(records):\n",
    "\n",
    "        print(f\"getting meta for {i} to {i + 100}\")\n",
    "        records_meta = records[i:i + 100]      \n",
    "        meta = records_meta.apply(get_meta, axis=1)\n",
    "        print(len(meta))\n",
    "        clean_meta_dict = clean_meta_dict + [r[0] for r in meta.tolist() if len(r) > 0 and len(r[0]) > 0]\n",
    "        i += 100\n",
    "    \n",
    "    # combine clean_meta_dict and clean_meta\n",
    "    clean_meta_dict = clean_meta_dict + clean_meta\n",
    "\n",
    "    # save old urls\n",
    "    old_urls = old_urls + urls\n",
    "\n",
    "    with open(\"old_urls.pkl\", \"wb\") as file:\n",
    "        pickle.dump(old_urls, file)\n",
    "\n",
    "\n",
    "    #clean_meta\n",
    "    if export:\n",
    "        with open(\"clean_meta.json\", \"w\") as fp:\n",
    "            json.dump(clean_meta_dict, fp)\n"
   ]
  },
  {
   "cell_type": "code",
   "execution_count": 21,
   "metadata": {},
   "outputs": [],
   "source": [
    "with open(\"clean_meta.json\", \"r\") as file:\n",
    "    clean_meta = json.load(file)\n",
    "\n",
    "with open(\"old_urls.pkl\", \"rb\") as file:\n",
    "    old_urls = pickle.load(file)\n"
   ]
  },
  {
   "cell_type": "code",
   "execution_count": 22,
   "metadata": {},
   "outputs": [
    {
     "data": {
      "text/plain": [
       "243"
      ]
     },
     "execution_count": 22,
     "metadata": {},
     "output_type": "execute_result"
    }
   ],
   "source": [
    "len(clean_meta)\n"
   ]
  },
  {
   "cell_type": "code",
   "execution_count": 16,
   "metadata": {},
   "outputs": [
    {
     "data": {
      "text/plain": [
       "'Opinion | The Unmet Promise of Equality (Published 2018)'"
      ]
     },
     "execution_count": 16,
     "metadata": {},
     "output_type": "execute_result"
    }
   ],
   "source": [
    "clean_meta[0]['title']"
   ]
  },
  {
   "cell_type": "code",
   "execution_count": 19,
   "metadata": {},
   "outputs": [
    {
     "data": {
      "text/plain": [
       "[{'url': 'https://www.nytimes.com/interactive/2020/12/17/world/asia/india-pollution-inequality.html',\n",
       "  'type': 'article',\n",
       "  'title': 'Who Gets to Breathe Clean Air in New Delhi? (Published 2020)',\n",
       "  'image': 'https://static01.nyt.com/images/2020/12/28/world/delhi-air-promo/delhi-air-promo-facebookJumbo.jpg?year=2020&h=550&w=1050&s=7d5ac8eb518014e40c586399d167d29fcd789b118bc215b3779bc7e1b49e569e&k=ZQJBKqZ0VN',\n",
       "  'image:alt': '',\n",
       "  'description': 'We measured how much air pollution two children, Monu and Aamya, breathed for a day to see how much inequality makes a difference.'}]"
      ]
     },
     "execution_count": 19,
     "metadata": {},
     "output_type": "execute_result"
    }
   ],
   "source": [
    "[m for m in clean_meta if \"Delhi\" in m.get('title','9')]"
   ]
  },
  {
   "cell_type": "code",
   "execution_count": 7,
   "metadata": {},
   "outputs": [
    {
     "data": {
      "text/plain": [
       "358"
      ]
     },
     "execution_count": 7,
     "metadata": {},
     "output_type": "execute_result"
    }
   ],
   "source": [
    "len(old_urls)"
   ]
  },
  {
   "cell_type": "code",
   "execution_count": 20,
   "metadata": {},
   "outputs": [
    {
     "name": "stderr",
     "output_type": "stream",
     "text": [
      "/Users/austinsteinhart/anaconda3/lib/python3.10/site-packages/metadata_parser/__init__.py:1543: FutureWarning: `search_head_only` was not provided and defaulting to `True` Future versions will default to `False`.\n",
      "  warn_future(\n",
      "MetadataParser.fetch_url(https://www.wired.com/story/the-cloud-is-a-prison-can-the-local-first-software-movement-set-us-free/?utm_source=pocket_shared)\n"
     ]
    },
    {
     "name": "stdout",
     "output_type": "stream",
     "text": [
      "before:  366\n",
      "after:  5\n",
      "getting meta for 0 to 100\n",
      "trying row The Cloud Is a Prison. Can the Local-First Software Movement Set Us Free?\n",
      "\n"
     ]
    },
    {
     "name": "stderr",
     "output_type": "stream",
     "text": [
      "/Users/austinsteinhart/anaconda3/lib/python3.10/site-packages/metadata_parser/__init__.py:1619: FutureWarning: MetadataParser.metadata is deprecated in 1.0; Operate on the parsed result directly.\n",
      "  warn_future(\n",
      "MetadataParser.fetch_url(https://www.newyorker.com/magazine/2023/08/21/the-hidden-cost-of-free-returns?HUNGRYROOT-2023_08_19=&category=in_the_news&collection_item_id=5ee4cfe3-ec3e-4b28-8236-b28217a38f5d&position=3&sponsored=0&url=https%3A%2F%2Fwww.newyorker.com%2Fmagazine%2F2023%2F08%2F21%2Fthe-hidden-cost-of-free-returns&utm_source=pocket_shared)\n"
     ]
    },
    {
     "name": "stdout",
     "output_type": "stream",
     "text": [
      "success row The Cloud Is a Prison. Can the Local-First Software Movement Set Us Free?\n",
      "\n",
      "trying row What Happens to All the Stuff We Return?\n"
     ]
    },
    {
     "name": "stderr",
     "output_type": "stream",
     "text": [
      "MetadataParser.fetch_url(https://www.newyorker.com/magazine/2021/03/29/what-data-cant-do?utm_source=pocket_shared)\n",
      "MetadataParser.fetch_url(https://kids.nationalgeographic.com/science/article/tour-a-recycling-center?cmpid=org%3Dngp%3A%3Amc%3Dcrm-email%3A%3Asrc%3Dngp%3A%3Acmp%3Deditorial%3A%3Aadd%3DFFG_Special_20210321&rid=2EDCD26997F56698719018DF8AC45A2F&utm_source=pocket_shared)\n"
     ]
    },
    {
     "name": "stdout",
     "output_type": "stream",
     "text": [
      "success row What Happens to All the Stuff We Return?\n",
      "trying row What Data Can't Do\n",
      "\n",
      "success row What Data Can't Do\n",
      "\n",
      "trying row Tour a Recycling Center\n"
     ]
    },
    {
     "name": "stderr",
     "output_type": "stream",
     "text": [
      "MetadataParser.fetch_url(https://www.theatlantic.com/magazine/archive/2020/03/the-nuclear-family-was-a-mistake/605536/?utm_source=pocket_shared)\n"
     ]
    },
    {
     "name": "stdout",
     "output_type": "stream",
     "text": [
      "success row Tour a Recycling Center\n",
      "trying row The Nuclear Family Was a Mistake\n",
      "\n",
      "success row The Nuclear Family Was a Mistake\n",
      "\n",
      "5\n"
     ]
    }
   ],
   "source": [
    "records = pull_records()\n",
    "scrape_metadata(records,export = True)"
   ]
  }
 ],
 "metadata": {
  "kernelspec": {
   "display_name": "Python 3",
   "language": "python",
   "name": "python3"
  },
  "language_info": {
   "codemirror_mode": {
    "name": "ipython",
    "version": 3
   },
   "file_extension": ".py",
   "mimetype": "text/x-python",
   "name": "python",
   "nbconvert_exporter": "python",
   "pygments_lexer": "ipython3",
   "version": "3.10.9"
  }
 },
 "nbformat": 4,
 "nbformat_minor": 2
}
