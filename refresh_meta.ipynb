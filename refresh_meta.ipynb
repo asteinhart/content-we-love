{
 "cells": [
  {
   "cell_type": "code",
   "execution_count": 1,
   "metadata": {},
   "outputs": [],
   "source": [
    "from helper import pull_records\n",
    "import pandas as pd\n",
    "import metadata_parser\n",
    "import json\n",
    "import pickle\n"
   ]
  },
  {
   "cell_type": "code",
   "execution_count": 2,
   "metadata": {},
   "outputs": [],
   "source": [
    "def get_meta(row):\n",
    "    \"\"\"\n",
    "    get meta data from a url\n",
    "    \"\"\"\n",
    "    meta = []\n",
    "    \n",
    "    try:\n",
    "        print(f\"trying row {row['title']}\")\n",
    "        page = metadata_parser.MetadataParser(url=row[\"link\"])\n",
    "        meta.append(page.metadata[\"og\"])\n",
    "    except Exception as e:\n",
    "        print(f\"oopsies on row {row['title']}\")\n",
    "    else:\n",
    "        print(f\"success row {row['title']}\")\n",
    "\n",
    "    return meta\n",
    "\n",
    "\n",
    "def scrape_metadata(records, export=False):\n",
    "    \"\"\"\n",
    "    get meta data from a list of records\n",
    "    \"\"\"\n",
    "    #only try to get metadata for records we dont already have\n",
    "    try:\n",
    "        with open(\"clean_meta.json\", \"r\") as file:\n",
    "            clean_meta = json.load(file)\n",
    "    except:\n",
    "        clean_meta = []\n",
    "\n",
    "    try:\n",
    "        with open(\"old_urls.pkl\", \"rb\") as file:\n",
    "            old_urls = pickle.load(file)\n",
    "    except:\n",
    "        old_urls = []\n",
    "\n",
    "    print('before: ', len(records))\n",
    "    records = records[~records[\"link\"].isin(old_urls)]\n",
    "    bad_records = ['Why police so rarely get charged for killing unarmed black men like Stephon Clark', \"America’s Most Diverse City Is Still Scarred by Its Past\", \"No game days. No bars. The pandemic is forcing some men to realize they need deeper friendships.\"]\n",
    "    records = records[~records[\"title\"].isin(bad_records)] \n",
    "\n",
    "    urls = records['link'].tolist()\n",
    "\n",
    "    print('after: ', len(records))\n",
    "    i = 0\n",
    "    clean_meta_dict = []\n",
    "    while i <= len(records):\n",
    "\n",
    "        print(f\"getting meta for {i} to {i + 100}\")\n",
    "        records_meta = records[i:i + 100]      \n",
    "        meta = records_meta.apply(get_meta, axis=1)\n",
    "        print(len(meta))\n",
    "        clean_meta_dict = clean_meta_dict + [r[0] for r in meta.tolist() if len(r) > 0 and len(r[0]) > 0]\n",
    "        i += 100\n",
    "    \n",
    "    # combine clean_meta_dict and clean_meta\n",
    "    clean_meta_dict = clean_meta_dict + clean_meta\n",
    "\n",
    "    # save old urls\n",
    "    old_urls = old_urls + urls\n",
    "\n",
    "    with open(\"old_urls.pkl\", \"wb\") as file:\n",
    "        pickle.dump(old_urls, file)\n",
    "\n",
    "\n",
    "    #clean_meta\n",
    "    if export:\n",
    "        with open(\"clean_meta.json\", \"w\") as fp:\n",
    "            json.dump(clean_meta_dict, fp)\n"
   ]
  },
  {
   "cell_type": "code",
   "execution_count": 21,
   "metadata": {},
   "outputs": [],
   "source": [
    "with open(\"clean_meta.json\", \"r\") as file:\n",
    "    clean_meta = json.load(file)\n",
    "\n",
    "with open(\"old_urls.pkl\", \"rb\") as file:\n",
    "    old_urls = pickle.load(file)\n"
   ]
  },
  {
   "cell_type": "code",
   "execution_count": 22,
   "metadata": {},
   "outputs": [
    {
     "data": {
      "text/plain": [
       "243"
      ]
     },
     "execution_count": 22,
     "metadata": {},
     "output_type": "execute_result"
    }
   ],
   "source": [
    "len(clean_meta)\n"
   ]
  },
  {
   "cell_type": "code",
   "execution_count": 16,
   "metadata": {},
   "outputs": [
    {
     "data": {
      "text/plain": [
       "'Opinion | The Unmet Promise of Equality (Published 2018)'"
      ]
     },
     "execution_count": 16,
     "metadata": {},
     "output_type": "execute_result"
    }
   ],
   "source": [
    "clean_meta[0]['title']"
   ]
  },
  {
   "cell_type": "code",
   "execution_count": 19,
   "metadata": {},
   "outputs": [
    {
     "data": {
      "text/plain": [
       "[{'url': 'https://www.nytimes.com/interactive/2020/12/17/world/asia/india-pollution-inequality.html',\n",
       "  'type': 'article',\n",
       "  'title': 'Who Gets to Breathe Clean Air in New Delhi? (Published 2020)',\n",
       "  'image': 'https://static01.nyt.com/images/2020/12/28/world/delhi-air-promo/delhi-air-promo-facebookJumbo.jpg?year=2020&h=550&w=1050&s=7d5ac8eb518014e40c586399d167d29fcd789b118bc215b3779bc7e1b49e569e&k=ZQJBKqZ0VN',\n",
       "  'image:alt': '',\n",
       "  'description': 'We measured how much air pollution two children, Monu and Aamya, breathed for a day to see how much inequality makes a difference.'}]"
      ]
     },
     "execution_count": 19,
     "metadata": {},
     "output_type": "execute_result"
    }
   ],
   "source": [
    "[m for m in clean_meta if \"Delhi\" in m.get('title','9')]"
   ]
  },
  {
   "cell_type": "code",
   "execution_count": 3,
   "metadata": {},
   "outputs": [
    {
     "name": "stderr",
     "output_type": "stream",
     "text": [
      "/Users/austinsteinhart/anaconda3/lib/python3.10/site-packages/metadata_parser/__init__.py:1543: FutureWarning: `search_head_only` was not provided and defaulting to `True` Future versions will default to `False`.\n",
      "  warn_future(\n",
      "MetadataParser.fetch_url(https://www.newyorker.com/culture/the-weekend-essay/the-trouble-with-friends)\n"
     ]
    },
    {
     "name": "stdout",
     "output_type": "stream",
     "text": [
      "before:  367\n",
      "after:  2\n",
      "getting meta for 0 to 100\n",
      "trying row The Trouble with Friends\n"
     ]
    },
    {
     "name": "stderr",
     "output_type": "stream",
     "text": [
      "/Users/austinsteinhart/anaconda3/lib/python3.10/site-packages/metadata_parser/__init__.py:1619: FutureWarning: MetadataParser.metadata is deprecated in 1.0; Operate on the parsed result directly.\n",
      "  warn_future(\n",
      "MetadataParser.fetch_url(https://www.bloomberg.com/graphics/2024-staffing-firms-game-h1b-visa-lottery-system/)\n"
     ]
    },
    {
     "name": "stdout",
     "output_type": "stream",
     "text": [
      "success row The Trouble with Friends\n",
      "trying row How Thousands of Middlemen Are Gaming the H-1B Program\n"
     ]
    },
    {
     "name": "stderr",
     "output_type": "stream",
     "text": [
      "NotParsable | https://www.bloomberg.com/graphics/2024-staffing-firms-game-h1b-visa-lottery-system/ | unknown filetype, response: \n"
     ]
    },
    {
     "name": "stdout",
     "output_type": "stream",
     "text": [
      "oopsies on row How Thousands of Middlemen Are Gaming the H-1B Program\n",
      "2\n"
     ]
    }
   ],
   "source": [
    "records = pull_records()\n",
    "scrape_metadata(records,export = True)"
   ]
  }
 ],
 "metadata": {
  "kernelspec": {
   "display_name": "Python 3",
   "language": "python",
   "name": "python3"
  },
  "language_info": {
   "codemirror_mode": {
    "name": "ipython",
    "version": 3
   },
   "file_extension": ".py",
   "mimetype": "text/x-python",
   "name": "python",
   "nbconvert_exporter": "python",
   "pygments_lexer": "ipython3",
   "version": "3.10.9"
  }
 },
 "nbformat": 4,
 "nbformat_minor": 2
}
